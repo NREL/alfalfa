{
 "cells": [
  {
   "cell_type": "code",
   "execution_count": null,
   "metadata": {},
   "outputs": [],
   "source": [
    "import sys, shutil, os, re\n",
    "CWD = os.getcwd()\n",
    "OSW = os.path.join(CWD, 'doe_prototypes', 'workflow.osw')\n",
    "OUTDIR = os.path.dirname(CWD)"
   ]
  },
  {
   "attachments": {},
   "cell_type": "markdown",
   "metadata": {},
   "source": [
    "We want to create many testcases to be uploaded to Alfalfa, using the Create DOE Prototype Building measure. This will allow a user to select (a) a prototypical building type, (b) a building standards template, and (c) a climate zone.\n",
    "\n",
    "In order to specify these 3 arguments, we must generate a new archive for each testcase, and in each archive the OpenStudio Workflow (OSW) file will be modified to specify the correct measure arguments."
   ]
  },
  {
   "attachments": {},
   "cell_type": "markdown",
   "metadata": {},
   "source": [
    "### Select the arguments\n",
    "\n",
    "The values you can choose for each argument are copied below:\n",
    "\n",
    "| Building Type            | Template            | Climate Zone         |\n",
    "|--------------------------|---------------------|----------------------|\n",
    "| 'SecondarySchool'        | 'DOE Ref Pre-1980'  | 'ASHRAE 169-2013-1A' |\n",
    "| 'PrimarySchool'          | 'DOE Ref 1980-2004' | 'ASHRAE 169-2013-2A' |\n",
    "| 'SmallOffice'            | '90.1-2004'         | 'ASHRAE 169-2013-2B' |\n",
    "| 'MediumOffice'           | '90.1-2007'         | 'ASHRAE 169-2013-3A' |\n",
    "| 'LargeOffice'            | '90.1-2010'         | 'ASHRAE 169-2013-3B' |\n",
    "| 'SmallHotel'             | '90.1-2013'         | 'ASHRAE 169-2013-3C' |\n",
    "| 'LargeHotel'             | '90.1-2016'         | 'ASHRAE 169-2013-4A' |\n",
    "| 'Warehouse'              |                     | 'ASHRAE 169-2013-4B' |\n",
    "| 'RetailStandalone'       |                     | 'ASHRAE 169-2013-4C' |\n",
    "| 'RetailStripmall'        |                     | 'ASHRAE 169-2013-5A' |\n",
    "| 'QuickServiceRestaurant' |                     | 'ASHRAE 169-2013-5B' |\n",
    "| 'FullServiceRestaurant'  |                     | 'ASHRAE 169-2013-6A' |\n",
    "| 'MidriseApartment'       |                     | 'ASHRAE 169-2013-6B' |\n",
    "| 'HighriseApartment'      |                     | 'ASHRAE 169-2013-7A' |\n",
    "| 'Hospital'               |                     | 'ASHRAE 169-2013-8A' |\n",
    "| 'Outpatient'             |                     |                      |\n",
    "| 'Laboratory'             |                     |                      |\n",
    "| 'LargeDataCenterHighITE' |                     |                      |\n",
    "| 'LargeDataCenterLowITE'  |                     |                      |\n",
    "| 'SmallDataCenterHighITE' |                     |                      |\n",
    "| 'SmallDataCenterLowITE'  |                     |                      |\n"
   ]
  },
  {
   "attachments": {},
   "cell_type": "markdown",
   "metadata": {},
   "source": [
    "We define a function to create testcases. This function will create a new directory for each testcase, copy the contents of the `doe_prototypes` folder and amend the OSW with the correct arguments before archiving the files and deleting the directory."
   ]
  },
  {
   "cell_type": "code",
   "execution_count": null,
   "metadata": {},
   "outputs": [],
   "source": [
    "def createTestcase(arguments, debug=False):\n",
    "    # create new directory\n",
    "    tdirname = arguments['building_type'] + arguments['template'] + arguments['climate_zone']\n",
    "    tdirname =re.sub(\"[^a-zA-Z0-9_]\", \"_\", tdirname,0,re.IGNORECASE)\n",
    "    TEMP = os.path.join(OUTDIR, tdirname)\n",
    "    print(TEMP)\n",
    "    if os.path.exists(TEMP):\n",
    "        shutil.rmtree(TEMP)\n",
    "    #os.mkdir(TEMP)\n",
    "    shutil.copytree(CWD, TEMP)\n",
    "    tlist = os.listdir(TEMP)\n",
    "    # remove the existing OSW and this notebook from the new dir\n",
    "    for item in tlist:\n",
    "        if item.endswith(\".osw\") or item.endswith(\".ipynb\"):\n",
    "            os.remove(os.path.join(TEMP, item))\n",
    "    NOSW = os.path.join(TEMP, 'doe_prototypes', 'workflow.osw')\n",
    "    # read the base OSW and modify it, write to new OSW\n",
    "    with open(OSW, 'r') as origosw:\n",
    "        with open(NOSW, 'w') as newosw:\n",
    "            for line in origosw.readlines():\n",
    "                # If we find one of these keywords, replace them with the correct arguments. Else, the line is copied as-is.\n",
    "                if '##DOEBLDGTYPE##' in line:\n",
    "                    line = line.replace('##DOEBLDGTYPE##', arguments['building_type'])\n",
    "                elif '##TEMPLATE##' in line:\n",
    "                    line = line.replace('##TEMPLATE##', arguments['template'])\n",
    "                elif '##CLIMATEZONE##' in line:\n",
    "                    line = line.replace('##CLIMATEZONE##', arguments['climate_zone'])\n",
    "                newosw.writelines(line)\n",
    "    # zip it\n",
    "    shutil.make_archive(TEMP, 'zip', TEMP)\n",
    "    # clean it\n",
    "    shutil.rmtree(TEMP)"
   ]
  },
  {
   "attachments": {},
   "cell_type": "markdown",
   "metadata": {},
   "source": [
    "Here is an example to generate a single testcase:"
   ]
  },
  {
   "cell_type": "code",
   "execution_count": null,
   "metadata": {},
   "outputs": [],
   "source": [
    "createTestcase({\n",
    "    'building_type': 'PrimarySchool',\n",
    "    'climate_zone': 'ASHRAE 169-2013-8A',\n",
    "    'template': '90.1-2016'\n",
    "})"
   ]
  },
  {
   "attachments": {},
   "cell_type": "markdown",
   "metadata": {},
   "source": [
    "And here for many buildings:"
   ]
  },
  {
   "cell_type": "code",
   "execution_count": null,
   "metadata": {},
   "outputs": [],
   "source": [
    "for building in ['PrimarySchool', 'SecondarySchool']:\n",
    "    for climatezone in ['ASHRAE 169-2013-4A', 'ASHRAE 169-2013-6B']:\n",
    "        for template in ['90.1-2007', '90.1-2013', '90.1-2016']:\n",
    "            createTestcase({\n",
    "                'building_type': building,\n",
    "                'climate_zone': climatezone,\n",
    "                'template': template\n",
    "            })"
   ]
  }
 ],
 "metadata": {
  "kernelspec": {
   "display_name": "Python 3",
   "language": "python",
   "name": "python3"
  },
  "language_info": {
   "codemirror_mode": {
    "name": "ipython",
    "version": 3
   },
   "file_extension": ".py",
   "mimetype": "text/x-python",
   "name": "python",
   "nbconvert_exporter": "python",
   "pygments_lexer": "ipython3",
   "version": "3.10.8"
  },
  "orig_nbformat": 4
 },
 "nbformat": 4,
 "nbformat_minor": 2
}
