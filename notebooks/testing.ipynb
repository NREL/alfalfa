{
 "cells": [
  {
   "attachments": {},
   "cell_type": "markdown",
   "metadata": {},
   "source": [
    "### Import the libraries"
   ]
  },
  {
   "cell_type": "code",
   "execution_count": 5,
   "metadata": {},
   "outputs": [],
   "source": [
    "import alfalfa_client.alfalfa_client as ac\n",
    "import alfalfa_client.historian as ah\n",
    "\n",
    "import os, requests, datetime"
   ]
  },
  {
   "cell_type": "code",
   "execution_count": 6,
   "metadata": {},
   "outputs": [],
   "source": [
    "\n",
    "client = ac.AlfalfaClient()\n",
    "historian = ah.Historian()\n"
   ]
  },
  {
   "attachments": {},
   "cell_type": "markdown",
   "metadata": {},
   "source": [
    "### Submit your testcase. \n",
    "Each time you submit a testcase, the function returns its ID.\n",
    "\n",
    "For more information: [Alfalfa's Wiki](https://github.com/NREL/alfalfa/wiki/OpenStudio-Model-Setup)"
   ]
  },
  {
   "cell_type": "code",
   "execution_count": 7,
   "metadata": {},
   "outputs": [
    {
     "name": "stdout",
     "output_type": "stream",
     "text": [
      "Desired status: ready\t\tCurrent status: preprocessing\n",
      "Desired status: ready\t\tCurrent status: ready\n"
     ]
    }
   ],
   "source": [
    "zippath = \"examples/with_ep2brick.zip\"\n",
    "#zippath = \"examples/primaryschool.zip\"\n",
    "ref = client.submit(os.path.join('..', zippath))"
   ]
  },
  {
   "attachments": {},
   "cell_type": "markdown",
   "metadata": {},
   "source": [
    "### Start a testcase\n",
    "You need its ID, a start and end time. Here, we use an external clock to control the simulation. The external clock can ignore the end time."
   ]
  },
  {
   "cell_type": "code",
   "execution_count": 8,
   "metadata": {},
   "outputs": [
    {
     "name": "stdout",
     "output_type": "stream",
     "text": [
      "Desired status: running\t\tCurrent status: ready\n",
      "Desired status: running\t\tCurrent status: started\n",
      "Desired status: running\t\tCurrent status: running\n"
     ]
    }
   ],
   "source": [
    "\n",
    "start = datetime.datetime(2022, 1, 3, 7, 0, 0)\n",
    "end = (start + datetime.timedelta(days=365)).strftime('%Y-%m-%d %H:%M:%S')\n",
    "start = start.strftime('%Y-%m-%d %H:%M:%S')\n",
    "inp = client.start(ref, start_datetime=start, end_datetime=end, external_clock=True)"
   ]
  },
  {
   "attachments": {},
   "cell_type": "markdown",
   "metadata": {},
   "source": [
    "### Get testcase information\n",
    "\n",
    "See all the testcase outputs"
   ]
  },
  {
   "cell_type": "code",
   "execution_count": null,
   "metadata": {},
   "outputs": [],
   "source": [
    "sensors = client.get_outputs(ref)\n",
    "sensors"
   ]
  },
  {
   "attachments": {},
   "cell_type": "markdown",
   "metadata": {},
   "source": [
    "See all the testcase inputs"
   ]
  },
  {
   "cell_type": "code",
   "execution_count": null,
   "metadata": {},
   "outputs": [],
   "source": [
    "points = client.get_inputs(ref)\n",
    "points"
   ]
  },
  {
   "attachments": {},
   "cell_type": "markdown",
   "metadata": {},
   "source": [
    "### Override controls"
   ]
  },
  {
   "attachments": {},
   "cell_type": "markdown",
   "metadata": {},
   "source": [
    "We can update the control vector at each timestep. The u vector is a dict."
   ]
  },
  {
   "cell_type": "code",
   "execution_count": 10,
   "metadata": {},
   "outputs": [
    {
     "name": "stdout",
     "output_type": "stream",
     "text": [
      "[{'name': 'mult_class_2_pod_2_zn_1_flr_1_zn_Heating_Temperature_Setpoint', 'value': 25}]\n",
      "\tTime: 2022-01-03 07:11:00\n",
      "\tZone temperature: 20.00014886760937\\Current: 20.00014886760937\n",
      "\tRequested: 25\tEnable: 1\n",
      "[{'name': 'mult_class_2_pod_2_zn_1_flr_1_zn_Heating_Temperature_Setpoint', 'value': 25}]\n",
      "\tTime: 2022-01-03 07:11:00\n",
      "\tZone temperature: 20.00014886760937\\Current: 20.00014886760937\n",
      "\tRequested: 25\tEnable: 1\n",
      "[{'name': 'mult_class_2_pod_2_zn_1_flr_1_zn_Heating_Temperature_Setpoint', 'value': 25}]\n",
      "\tTime: 2022-01-03 07:11:00\n",
      "\tZone temperature: 20.00014886760937\\Current: 20.00014886760937\n",
      "\tRequested: 25\tEnable: 1\n",
      "[{'name': 'mult_class_2_pod_2_zn_1_flr_1_zn_Heating_Temperature_Setpoint', 'value': 25}]\n",
      "\tTime: 2022-01-03 07:11:00\n",
      "\tZone temperature: 20.00014886760937\\Current: 20.00014886760937\n",
      "\tRequested: 25\tEnable: 1\n",
      "[{'name': 'mult_class_2_pod_2_zn_1_flr_1_zn_Heating_Temperature_Setpoint', 'value': 25}]\n",
      "\tTime: 2022-01-03 07:11:00\n",
      "\tZone temperature: 20.00014886760937\\Current: 20.00014886760937\n",
      "\tRequested: 25\tEnable: 1\n",
      "[{'name': 'mult_class_2_pod_2_zn_1_flr_1_zn_Heating_Temperature_Setpoint', 'value': 25}]\n",
      "\tTime: 2022-01-03 07:11:00\n",
      "\tZone temperature: 20.00014886760937\\Current: 20.00014886760937\n",
      "\tRequested: 25\tEnable: 1\n",
      "[{'name': 'mult_class_2_pod_2_zn_1_flr_1_zn_Heating_Temperature_Setpoint', 'value': 25}]\n",
      "\tTime: 2022-01-03 07:11:00\n",
      "\tZone temperature: 20.00014886760937\\Current: 20.00014886760937\n",
      "\tRequested: 25\tEnable: 1\n",
      "[{'name': 'mult_class_2_pod_2_zn_1_flr_1_zn_Heating_Temperature_Setpoint', 'value': 25}]\n",
      "\tTime: 2022-01-03 07:11:00\n",
      "\tZone temperature: 20.00014886760937\\Current: 20.00014886760937\n",
      "\tRequested: 25\tEnable: 1\n",
      "[{'name': 'mult_class_2_pod_2_zn_1_flr_1_zn_Heating_Temperature_Setpoint', 'value': 25}]\n",
      "\tTime: 2022-01-03 07:11:00\n",
      "\tZone temperature: 20.00014886760937\\Current: 20.00014886760937\n",
      "\tRequested: 25\tEnable: 1\n",
      "[{'name': 'mult_class_2_pod_2_zn_1_flr_1_zn_Heating_Temperature_Setpoint', 'value': 25}]\n",
      "\tTime: 2022-01-03 07:11:00\n",
      "\tZone temperature: 20.00014886760937\\Current: 20.00014886760937\n",
      "\tRequested: 25\tEnable: 1\n"
     ]
    }
   ],
   "source": [
    "steps = 10\n",
    "commands = [25 for i in range(steps)]\n",
    "\n",
    "controlledzone = 'mult_class_2_pod_2_zn_1_flr_1 zn'\n",
    "controlledcomponent = 'mult_class_2_pod_2_zn_1_flr_1 zn'\n",
    "controlledvar = 'Heating_Temperature'\n",
    "controlledsen = 'Zone Air Temperature'\n",
    "\n",
    "\n",
    "for c in commands:\n",
    "    u = {\n",
    "    f\"{controlledzone.replace(' ', '_')}_{controlledvar}_Setpoint\" : c\n",
    "    }\n",
    "    response = client.set_inputs(ref, u)\n",
    "    client.advance(ref)\n",
    "    res = client.get_outputs(ref)\n",
    "    ctime = client.get_sim_time(ref)\n",
    "    zonetemp = res[f\"{controlledzone} Zone Air Temperature Sensor\"]\n",
    "    curval = res[f\"{controlledcomponent} {controlledsen} Sensor\"]\n",
    "    controlaction = res[f\"{controlledzone.replace(' ', '_')}_{controlledvar}_Setpoint_Value\"]\n",
    "    enableval = res[f\"{controlledzone.replace(' ', '_')}_{controlledvar}_Setpoint_Enable_Value\"]\n",
    "    print(f\"\\tTime: {ctime}\\n\\tZone temperature: {zonetemp}\\Current: {curval}\\n\\tRequested: {controlaction}\\tEnable: {enableval}\")"
   ]
  },
  {
   "cell_type": "code",
   "execution_count": null,
   "metadata": {},
   "outputs": [],
   "source": [
    "client.stop(ref)"
   ]
  }
 ],
 "metadata": {
  "kernelspec": {
   "display_name": "Python 3",
   "language": "python",
   "name": "python3"
  },
  "language_info": {
   "codemirror_mode": {
    "name": "ipython",
    "version": 3
   },
   "file_extension": ".py",
   "mimetype": "text/x-python",
   "name": "python",
   "nbconvert_exporter": "python",
   "pygments_lexer": "ipython3",
   "version": "3.10.8"
  },
  "orig_nbformat": 4,
  "vscode": {
   "interpreter": {
    "hash": "aee8b7b246df8f9039afb4144a1f6fd8d2ca17a180786b69acc140d282b71a49"
   }
  }
 },
 "nbformat": 4,
 "nbformat_minor": 2
}
