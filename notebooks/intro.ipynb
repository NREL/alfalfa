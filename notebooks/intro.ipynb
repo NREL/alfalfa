{
 "cells": [
  {
   "cell_type": "markdown",
   "metadata": {},
   "source": [
    "### Install alfalfa-client from the development branch"
   ]
  },
  {
   "attachments": {},
   "cell_type": "markdown",
   "metadata": {},
   "source": [
    "Skip this step if you have done it once already."
   ]
  },
  {
   "cell_type": "code",
   "execution_count": null,
   "metadata": {},
   "outputs": [],
   "source": [
    "%%bash\n",
    "pip uninstall alfalfa-client\n",
    "Y"
   ]
  },
  {
   "cell_type": "code",
   "execution_count": null,
   "metadata": {},
   "outputs": [],
   "source": [
    "!pip install git+https://github.com/NREL/alfalfa-client@81541ea52e600dc07f1d8eac553cd0cf14968313"
   ]
  },
  {
   "attachments": {},
   "cell_type": "markdown",
   "metadata": {},
   "source": [
    "### Import the libraries"
   ]
  },
  {
   "cell_type": "code",
   "execution_count": null,
   "metadata": {},
   "outputs": [],
   "source": [
    "import alfalfa_client.alfalfa_client as ac\n",
    "import alfalfa_client.historian as ah\n",
    "\n",
    "import os, requests, datetime"
   ]
  },
  {
   "cell_type": "code",
   "execution_count": null,
   "metadata": {},
   "outputs": [],
   "source": [
    "\n",
    "client = ac.AlfalfaClient()\n",
    "historian = ah.Historian()\n"
   ]
  },
  {
   "attachments": {},
   "cell_type": "markdown",
   "metadata": {},
   "source": [
    "### Submit your testcase. \n",
    "Each time we submit a testcase, the function returns its ID. We will need it for other client calls.\n",
    "\n",
    "For more information: [Alfalfa's Wiki](https://github.com/NREL/alfalfa/wiki/OpenStudio-Model-Setup)"
   ]
  },
  {
   "attachments": {},
   "cell_type": "markdown",
   "metadata": {},
   "source": [
    "We upload a test case based on the DOE Prototype Primary School building."
   ]
  },
  {
   "cell_type": "code",
   "execution_count": null,
   "metadata": {},
   "outputs": [],
   "source": [
    "zippath = \"examples/primaryschool.zip\"\n",
    "ref = client.submit(os.path.join('..', zippath))"
   ]
  },
  {
   "attachments": {},
   "cell_type": "markdown",
   "metadata": {},
   "source": [
    "### Start a testcase\n",
    "To start a simulation, we need its ID, a start and end time. Here, we use an external clock to control the simulation. We set the start time to 7am on January 3rd."
   ]
  },
  {
   "cell_type": "code",
   "execution_count": null,
   "metadata": {},
   "outputs": [],
   "source": [
    "\n",
    "start = datetime.datetime(2022, 1, 3, 7, 0, 0)\n",
    "end = (start + datetime.timedelta(days=365)).strftime('%Y-%m-%d %H:%M:%S')\n",
    "start = start.strftime('%Y-%m-%d %H:%M:%S')\n",
    "inp = client.start(ref, start_datetime=start, end_datetime=end, external_clock=True)"
   ]
  },
  {
   "attachments": {},
   "cell_type": "markdown",
   "metadata": {},
   "source": [
    "### Get testcase information\n",
    "\n",
    "We can request a list of all the simulation outputs"
   ]
  },
  {
   "cell_type": "code",
   "execution_count": null,
   "metadata": {},
   "outputs": [],
   "source": [
    "sensors = client.get_outputs(ref)\n",
    "sensors"
   ]
  },
  {
   "attachments": {},
   "cell_type": "markdown",
   "metadata": {},
   "source": [
    "The same goes for the simulation inputs"
   ]
  },
  {
   "cell_type": "code",
   "execution_count": null,
   "metadata": {},
   "outputs": [],
   "source": [
    "points = client.get_inputs(ref)\n",
    "points"
   ]
  },
  {
   "attachments": {},
   "cell_type": "markdown",
   "metadata": {},
   "source": [
    "### Override controls"
   ]
  },
  {
   "attachments": {},
   "cell_type": "markdown",
   "metadata": {},
   "source": [
    "We can update the control vector at each timestep. One timestep is one minute. \n",
    "\n",
    "The control vector, u, is a dict where the key is one of the strings reported by the `get_inputs` method and the value is the value we want to set this point to.\n",
    "\n",
    "In this example, we raise the heating and cooling setpoints in the `Mult_Class_2_Pod_2` classroom, `mult_class_2_pod_2_zn_1_flr_1_zn_heating_temperature_setpoint` and `mult_class_2_pod_2_zn_1_flr_1_zn_cooling_temperature_setpoint` respectively, for 2 hours."
   ]
  },
  {
   "cell_type": "code",
   "execution_count": null,
   "metadata": {},
   "outputs": [],
   "source": [
    "steps = 120\n",
    "htg = [25 for i in range(steps)]\n",
    "clg = [i + 4 for i in htg]\n",
    "\n",
    "controlledzone = 'mult_class_2_pod_2_zn_1_flr_1 zn'\n",
    "controlledcomponent = 'mult_class_2_pod_2_zn_1_flr_1 zn'\n",
    "htgvar = 'Heating_Temperature'\n",
    "clgvar = 'Cooling_Temperature'\n",
    "\n",
    "for h, c in zip(htg, clg):\n",
    "    u = {\n",
    "    f\"{controlledzone.replace(' ', '_')}_{htgvar}_Setpoint\" : h,\n",
    "    f\"{controlledzone.replace(' ', '_')}_{clgvar}_Setpoint\" : c,\n",
    "\n",
    "    }\n",
    "    response = client.set_inputs(ref, u)\n",
    "    client.advance(ref)\n",
    "    res = client.get_outputs(ref)\n",
    "    ctime = client.get_sim_time(ref)\n",
    "    zonetemp = res[f\"{controlledzone} Zone Air Temperature Sensor\"]\n",
    "    htgval = res[f\"{controlledzone.replace(' ', '_')}_{htgvar}_Setpoint_Value\"]\n",
    "    clgval = res[f\"{controlledzone.replace(' ', '_')}_{clgvar}_Setpoint_Value\"]\n",
    "    print(f\"\\tTime: {ctime}\\n\\tZone temperature: {zonetemp}\\tHeating STP: {htgval}\\n\\tCooling STP: {clgval}\")"
   ]
  },
  {
   "attachments": {},
   "cell_type": "markdown",
   "metadata": {},
   "source": [
    "And below, we access the VAV terminal's control node and change its temperature setpoint. In this case, we also need to start the ventilation system by setting the air flow setpoint in order to see a change in discharge air temperature."
   ]
  },
  {
   "cell_type": "code",
   "execution_count": null,
   "metadata": {},
   "outputs": [],
   "source": [
    "steps = 120\n",
    "ctrl = [30 for i in range(steps)]\n",
    "\n",
    "controlledzone = 'mult_class_2_pod_2_zn_1_flr_1 zn'\n",
    "controlledcomponent = 'mult_class_2_pod_2_zn_1_flr_1 zn vav terminal outlet air node'\n",
    "tvar = 'Temperature'\n",
    "mvar = 'Air_Flow'\n",
    "\n",
    "for c in ctrl:\n",
    "    u = {\n",
    "    f\"{controlledcomponent.replace(' ', '_')}_{tvar}_Setpoint\" : c,\n",
    "    f\"{controlledcomponent.replace(' ', '_')}_{mvar}_Setpoint\" : 1\n",
    "\n",
    "    }\n",
    "    response = client.set_inputs(ref, u)\n",
    "    client.advance(ref)\n",
    "    res = client.get_outputs(ref)\n",
    "    ctime = client.get_sim_time(ref)\n",
    "    zonetemp = res[f\"{controlledzone} Zone Air Temperature Sensor\"]\n",
    "    tval = res[f\"{controlledcomponent.replace(' ', '_')}_{tvar}_Setpoint_Value\"]\n",
    "    tsen = res[f\"{controlledcomponent} {tvar} Sensor\"]\n",
    "    print(f\"\\tTime: {ctime}\\n\\tZone temperature: {zonetemp}\\tDischarge air STP: {tval}\\n\\tDischarge air temperature sensor: {tsen}\")"
   ]
  },
  {
   "attachments": {},
   "cell_type": "markdown",
   "metadata": {},
   "source": [
    "Finally, to stop a testcase:"
   ]
  },
  {
   "cell_type": "code",
   "execution_count": null,
   "metadata": {},
   "outputs": [],
   "source": [
    "client.stop(ref)"
   ]
  }
 ],
 "metadata": {
  "kernelspec": {
   "display_name": "Python 3",
   "language": "python",
   "name": "python3"
  },
  "language_info": {
   "codemirror_mode": {
    "name": "ipython",
    "version": 3
   },
   "file_extension": ".py",
   "mimetype": "text/x-python",
   "name": "python",
   "nbconvert_exporter": "python",
   "pygments_lexer": "ipython3",
   "version": "3.10.8"
  },
  "orig_nbformat": 4,
  "vscode": {
   "interpreter": {
    "hash": "aee8b7b246df8f9039afb4144a1f6fd8d2ca17a180786b69acc140d282b71a49"
   }
  }
 },
 "nbformat": 4,
 "nbformat_minor": 2
}
