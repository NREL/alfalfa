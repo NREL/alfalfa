{
 "cells": [
  {
   "attachments": {},
   "cell_type": "markdown",
   "metadata": {},
   "source": [
    "### Install alfalfa-client from the development branch"
   ]
  },
  {
   "attachments": {},
   "cell_type": "markdown",
   "metadata": {},
   "source": [
    "Skip this step if you have done it already."
   ]
  },
  {
   "cell_type": "code",
   "execution_count": null,
   "metadata": {},
   "outputs": [],
   "source": [
    "%%bash\n",
    "pip uninstall alfalfa-client\n",
    "Y"
   ]
  },
  {
   "cell_type": "code",
   "execution_count": null,
   "metadata": {},
   "outputs": [],
   "source": [
    "!pip install git+https://github.com/NREL/alfalfa-client@81541ea52e600dc07f1d8eac553cd0cf14968313"
   ]
  },
  {
   "attachments": {},
   "cell_type": "markdown",
   "metadata": {},
   "source": [
    "### Import the libraries"
   ]
  },
  {
   "cell_type": "code",
   "execution_count": null,
   "metadata": {},
   "outputs": [],
   "source": [
    "import alfalfa_client.alfalfa_client as ac\n",
    "import alfalfa_client.historian as ah\n",
    "\n",
    "import os, requests, datetime"
   ]
  },
  {
   "cell_type": "code",
   "execution_count": null,
   "metadata": {},
   "outputs": [],
   "source": [
    "\n",
    "client = ac.AlfalfaClient()\n",
    "historian = ah.Historian()\n"
   ]
  },
  {
   "attachments": {},
   "cell_type": "markdown",
   "metadata": {},
   "source": [
    "### Submit your testcase. \n",
    "Each time you submit a testcase, the function returns its ID. You will need it for issuing calls.\n",
    "\n",
    "For more information: [Alfalfa's Wiki](https://github.com/NREL/alfalfa/wiki/OpenStudio-Model-Setup)"
   ]
  },
  {
   "cell_type": "code",
   "execution_count": null,
   "metadata": {},
   "outputs": [],
   "source": [
    "zippath = \"examples/with_ep2brick.zip\"\n",
    "ref = client.submit(os.path.join('..', zippath))"
   ]
  },
  {
   "attachments": {},
   "cell_type": "markdown",
   "metadata": {},
   "source": [
    "### Start a testcase\n",
    "You need its ID, a start and end time. Here, we use an external clock to control the simulation. The external clock can ignore the end time."
   ]
  },
  {
   "cell_type": "code",
   "execution_count": null,
   "metadata": {},
   "outputs": [],
   "source": [
    "\n",
    "start = datetime.datetime(2022, 1, 1, 0, 0, 0).strftime('%Y-%m-%d %H:%M:%S')\n",
    "end = datetime.datetime(2023, 1, 1, 0, 0, 0).strftime('%Y-%m-%d %H:%M:%S')\n",
    "\n",
    "inp = client.start(ref, start_datetime=start, end_datetime=end, external_clock=True)"
   ]
  },
  {
   "cell_type": "code",
   "execution_count": null,
   "metadata": {},
   "outputs": [],
   "source": [
    "client.stop(ref)"
   ]
  },
  {
   "attachments": {},
   "cell_type": "markdown",
   "metadata": {},
   "source": [
    "### Get testcase information\n",
    "\n",
    "See all the testcase outputs"
   ]
  },
  {
   "cell_type": "code",
   "execution_count": null,
   "metadata": {},
   "outputs": [],
   "source": [
    "sensors = client.get_outputs(ref)\n",
    "sensors"
   ]
  },
  {
   "attachments": {},
   "cell_type": "markdown",
   "metadata": {},
   "source": [
    "See all the testcase inputs"
   ]
  },
  {
   "cell_type": "code",
   "execution_count": null,
   "metadata": {},
   "outputs": [],
   "source": [
    "points = client.get_inputs(ref)\n",
    "points"
   ]
  },
  {
   "attachments": {},
   "cell_type": "markdown",
   "metadata": {},
   "source": [
    "### Override controls\n",
    "\n",
    "Set new inputs"
   ]
  },
  {
   "cell_type": "code",
   "execution_count": null,
   "metadata": {},
   "outputs": [],
   "source": [
    "u = {\n",
    "    'pvav_pod_3_supply_inlet_node_Air_Flow_Setpoint' : 42.0,  # from the list of points\n",
    "    #'water_use_connections_1_inlet_water_node_Enthalpy_Setpoint_Enable' : 0.0  # from the list of points\n",
    "}\n",
    "client.set_inputs(ref, u)"
   ]
  },
  {
   "attachments": {},
   "cell_type": "markdown",
   "metadata": {},
   "source": [
    "Advance the simulation by 1-minute timesteps."
   ]
  },
  {
   "cell_type": "code",
   "execution_count": null,
   "metadata": {},
   "outputs": [],
   "source": [
    "print(f\"T0 = {client.get_sim_time(ref)}\")\n",
    "client.advance(ref)\n",
    "print(f\"T1 = {client.get_sim_time(ref)}\")"
   ]
  },
  {
   "attachments": {},
   "cell_type": "markdown",
   "metadata": {},
   "source": [
    "Review the results"
   ]
  },
  {
   "cell_type": "code",
   "execution_count": null,
   "metadata": {},
   "outputs": [],
   "source": [
    "res = client.get_outputs(ref)\n",
    "res"
   ]
  },
  {
   "attachments": {},
   "cell_type": "markdown",
   "metadata": {},
   "source": [
    "### Example\n",
    "We can update the control vector at each timestep. The u vector is a dict."
   ]
  },
  {
   "cell_type": "code",
   "execution_count": null,
   "metadata": {},
   "outputs": [],
   "source": [
    "steps = 50 # 50 minutes\n",
    "\n",
    "for t in range(steps):\n",
    "    command = t % 2\n",
    "    u = {\n",
    "    'pvav_pod_3_supply_inlet_node_Air_Flow_Setpoint' : 42.,#command,\n",
    "    }\n",
    "    response = client.set_inputs(ref, u)\n",
    "    client.advance(ref)\n",
    "    res = client.get_outputs(ref)\n",
    "    print(f\"Sensors: \\n{res['pvav_pod_3_supply_inlet_node_Air_Flow_Setpoint_Value']}\")\n",
    "    print(f\"Sensors: \\n{res['pvav_pod_3_supply_inlet_node_Air_Flow_SensorAir_Flow']}\")\n",
    "    \n",
    "client.stop(ref)"
   ]
  }
 ],
 "metadata": {
  "kernelspec": {
   "display_name": "Python 3",
   "language": "python",
   "name": "python3"
  },
  "language_info": {
   "codemirror_mode": {
    "name": "ipython",
    "version": 3
   },
   "file_extension": ".py",
   "mimetype": "text/x-python",
   "name": "python",
   "nbconvert_exporter": "python",
   "pygments_lexer": "ipython3",
   "version": "3.10.8"
  },
  "orig_nbformat": 4,
  "vscode": {
   "interpreter": {
    "hash": "8f9328efe3468e6c370cdfed98702d3986faf748314d5bcec59da615d65baa7a"
   }
  }
 },
 "nbformat": 4,
 "nbformat_minor": 2
}
