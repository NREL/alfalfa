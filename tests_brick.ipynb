{
 "cells": [
  {
   "cell_type": "code",
   "execution_count": 1,
   "metadata": {},
   "outputs": [],
   "source": [
    "import alfalfa_client.alfalfa_client as ac\n",
    "import alfalfa_client.historian as ah\n",
    "\n"
   ]
  },
  {
   "cell_type": "code",
   "execution_count": 2,
   "metadata": {},
   "outputs": [],
   "source": [
    "import os\n",
    "#zippath = \"smalloffice.zip\"\n",
    "zippath = \"examples/primaryschool_modelmeasure.zip\""
   ]
  },
  {
   "cell_type": "code",
   "execution_count": 8,
   "metadata": {},
   "outputs": [
    {
     "name": "stdout",
     "output_type": "stream",
     "text": [
      "Desired status: READY\t\tCurrent status: PREPROCESSING\n",
      "Desired status: READY\t\tCurrent status: PREPROCESSING\n",
      "Desired status: READY\t\tCurrent status: PREPROCESSING\n",
      "Desired status: READY\t\tCurrent status: PREPROCESSING\n",
      "Desired status: READY\t\tCurrent status: PREPROCESSING\n"
     ]
    }
   ],
   "source": [
    "client = ac.AlfalfaClient()\n",
    "historian = ah.Historian()\n",
    "ref = client.submit(path=os.path.join('.', zippath))"
   ]
  },
  {
   "cell_type": "code",
   "execution_count": 9,
   "metadata": {},
   "outputs": [
    {
     "data": {
      "text/plain": [
       "'a1941c70-74e3-11ed-b6d9-ed8438689e34'"
      ]
     },
     "execution_count": 9,
     "metadata": {},
     "output_type": "execute_result"
    }
   ],
   "source": [
    "ref"
   ]
  },
  {
   "cell_type": "code",
   "execution_count": 10,
   "metadata": {},
   "outputs": [
    {
     "data": {
      "text/plain": [
       "'READY'"
      ]
     },
     "execution_count": 10,
     "metadata": {},
     "output_type": "execute_result"
    }
   ],
   "source": [
    "client.status(ref)"
   ]
  },
  {
   "cell_type": "code",
   "execution_count": 11,
   "metadata": {},
   "outputs": [
    {
     "data": {
      "text/plain": [
       "{}"
      ]
     },
     "execution_count": 11,
     "metadata": {},
     "output_type": "execute_result"
    }
   ],
   "source": [
    "client.outputs(ref)"
   ]
  },
  {
   "cell_type": "code",
   "execution_count": 12,
   "metadata": {},
   "outputs": [
    {
     "data": {
      "text/plain": [
       "['_kitchen_zn_1_flr_1_zn_psz_ac_1_6_supply_outlet_node_Setpoint\\n_Enable_Value',\n",
       " '_kitchen_zn_1_flr_1_zn_psz_ac_1_6_supply_outlet_node_Setpoint\\n_Value',\n",
       " '_gym_zn_1_flr_1_zn_psz_ac_2_5_supply_outlet_node_Setpoint_Value',\n",
       " '_cafeteria_zn_1_flr_1_zn_psz_ac_2_7_supply_outlet_node_Setpoint_Enable_Value',\n",
       " '_gym_zn_1_flr_1_zn_psz_ac_2_5_supply_outlet_node_Setpoint_Enable_Value',\n",
       " \" 'gym_zn_1_flr_1&20zn&20psz-ac_2-5&20supply&20outlet&20node_Sensor'\",\n",
       " '_cafeteria_zn_1_flr_1_zn_psz_ac_2_7_supply_outlet_node_Setpoint_Value',\n",
       " \" 'kitchen_zn_1_flr_1&20zn&20psz-ac_1-6&20supply&20outlet&20node_Sensor'\",\n",
       " \"'cafeteria_zn_1_flr_1&20zn&20psz-ac_2-7&20supply&20outlet&20node_Sensor'\",\n",
       " 'Cafeteria_ZN_1_FLR_1 ZN PSZ-AC_2-7 Discharge Air Temp Sensor',\n",
       " 'Cafeteria_ZN_1_FLR_1 ZN PSZ-AC_2-7 Discharge Air Pressure Sensor',\n",
       " 'Cafeteria_ZN_1_FLR_1 ZN PSZ-AC_2-7 Discharge Air Humidity Sensor',\n",
       " 'Cafeteria_ZN_1_FLR_1 ZN PSZ-AC_2-7 Discharge Air Flow Sensor',\n",
       " 'Cafeteria_ZN_1_FLR_1_ZN_PSZ_AC_2_7_Outside_Air_Damper_Sensor_position',\n",
       " 'Cafeteria_ZN_1_FLR_1 ZN PSZ-AC_2-7 Mixed Air Temp Sensor',\n",
       " 'Cafeteria_ZN_1_FLR_1 ZN PSZ-AC_2-7 Mixed Air Pressure Sensor',\n",
       " 'Cafeteria_ZN_1_FLR_1 ZN PSZ-AC_2-7 Mixed Air Humidity Sensor',\n",
       " 'Cafeteria_ZN_1_FLR_1 ZN PSZ-AC_2-7 Mixed Air Flow Sensor',\n",
       " 'Cafeteria_ZN_1_FLR_1 ZN PSZ-AC_2-7 Outside Air Temp Sensor',\n",
       " 'Cafeteria_ZN_1_FLR_1 ZN PSZ-AC_2-7 Outside Air Pressure Sensor',\n",
       " 'Cafeteria_ZN_1_FLR_1 ZN PSZ-AC_2-7 Outside Air Humidity Sensor',\n",
       " 'Cafeteria_ZN_1_FLR_1 ZN PSZ-AC_2-7 Outside Air Flow Sensor',\n",
       " 'Cafeteria_ZN_1_FLR_1 ZN PSZ-AC_2-7 Return Air Temp Sensor',\n",
       " 'Cafeteria_ZN_1_FLR_1 ZN PSZ-AC_2-7 Return Air Pressure Sensor',\n",
       " 'Cafeteria_ZN_1_FLR_1 ZN PSZ-AC_2-7 Return Air Humidity Sensor',\n",
       " 'Cafeteria_ZN_1_FLR_1 ZN PSZ-AC_2-7 Return Air Flow Sensor',\n",
       " 'Cafeteria_ZN_1_FLR_1 ZN PSZ-AC_2-7 Exhaust Air Temp Sensor',\n",
       " 'Cafeteria_ZN_1_FLR_1 ZN PSZ-AC_2-7 Exhaust Air Pressure Sensor',\n",
       " 'Cafeteria_ZN_1_FLR_1 ZN PSZ-AC_2-7 Exhaust Air Humidity Sensor',\n",
       " 'Cafeteria_ZN_1_FLR_1 ZN PSZ-AC_2-7 Exhaust Air Flow Sensor',\n",
       " 'Cafeteria_ZN_1_FLR_1 ZN Zone Air Temp Sensor',\n",
       " 'Cafeteria_ZN_1_FLR_1 ZN Zone Air Humidity Sensor',\n",
       " 'Cafeteria_ZN_1_FLR_1 ZN Zone Air Cooling sp',\n",
       " 'Cafeteria_ZN_1_FLR_1 ZN Zone Air Heating sp',\n",
       " 'Gym_ZN_1_FLR_1 ZN PSZ-AC_2-5 Discharge Air Temp Sensor',\n",
       " 'Gym_ZN_1_FLR_1 ZN PSZ-AC_2-5 Discharge Air Pressure Sensor',\n",
       " 'Gym_ZN_1_FLR_1 ZN PSZ-AC_2-5 Discharge Air Humidity Sensor',\n",
       " 'Gym_ZN_1_FLR_1 ZN PSZ-AC_2-5 Discharge Air Flow Sensor',\n",
       " 'Gym_ZN_1_FLR_1_ZN_PSZ_AC_2_5_Outside_Air_Damper_Sensor_position',\n",
       " 'Gym_ZN_1_FLR_1 ZN PSZ-AC_2-5 Mixed Air Temp Sensor',\n",
       " 'Gym_ZN_1_FLR_1 ZN PSZ-AC_2-5 Mixed Air Pressure Sensor',\n",
       " 'Gym_ZN_1_FLR_1 ZN PSZ-AC_2-5 Mixed Air Humidity Sensor',\n",
       " 'Gym_ZN_1_FLR_1 ZN PSZ-AC_2-5 Mixed Air Flow Sensor',\n",
       " 'Gym_ZN_1_FLR_1 ZN PSZ-AC_2-5 Outside Air Temp Sensor',\n",
       " 'Gym_ZN_1_FLR_1 ZN PSZ-AC_2-5 Outside Air Pressure Sensor',\n",
       " 'Gym_ZN_1_FLR_1 ZN PSZ-AC_2-5 Outside Air Humidity Sensor',\n",
       " 'Gym_ZN_1_FLR_1 ZN PSZ-AC_2-5 Outside Air Flow Sensor',\n",
       " 'Gym_ZN_1_FLR_1 ZN PSZ-AC_2-5 Return Air Temp Sensor',\n",
       " 'Gym_ZN_1_FLR_1 ZN PSZ-AC_2-5 Return Air Pressure Sensor',\n",
       " 'Gym_ZN_1_FLR_1 ZN PSZ-AC_2-5 Return Air Humidity Sensor',\n",
       " 'Gym_ZN_1_FLR_1 ZN PSZ-AC_2-5 Return Air Flow Sensor',\n",
       " 'Gym_ZN_1_FLR_1 ZN PSZ-AC_2-5 Exhaust Air Temp Sensor',\n",
       " 'Gym_ZN_1_FLR_1 ZN PSZ-AC_2-5 Exhaust Air Pressure Sensor',\n",
       " 'Gym_ZN_1_FLR_1 ZN PSZ-AC_2-5 Exhaust Air Humidity Sensor',\n",
       " 'Gym_ZN_1_FLR_1 ZN PSZ-AC_2-5 Exhaust Air Flow Sensor',\n",
       " 'Gym_ZN_1_FLR_1 ZN Zone Air Temp Sensor',\n",
       " 'Gym_ZN_1_FLR_1 ZN Zone Air Humidity Sensor',\n",
       " 'Gym_ZN_1_FLR_1 ZN Zone Air Cooling sp',\n",
       " 'Gym_ZN_1_FLR_1 ZN Zone Air Heating sp',\n",
       " 'Kitchen_ZN_1_FLR_1 ZN PSZ-AC_1-6 Discharge Air Temp Sensor',\n",
       " 'Kitchen_ZN_1_FLR_1 ZN PSZ-AC_1-6 Discharge Air Pressure Sensor',\n",
       " 'Kitchen_ZN_1_FLR_1 ZN PSZ-AC_1-6 Discharge Air Humidity Sensor',\n",
       " 'Kitchen_ZN_1_FLR_1 ZN PSZ-AC_1-6 Discharge Air Flow Sensor',\n",
       " 'Kitchen_ZN_1_FLR_1_ZN_PSZ_AC_1_6_Outside_Air_Damper_Sensor_position',\n",
       " 'Kitchen_ZN_1_FLR_1 ZN PSZ-AC_1-6 Mixed Air Temp Sensor',\n",
       " 'Kitchen_ZN_1_FLR_1 ZN PSZ-AC_1-6 Mixed Air Pressure Sensor',\n",
       " 'Kitchen_ZN_1_FLR_1 ZN PSZ-AC_1-6 Mixed Air Humidity Sensor',\n",
       " 'Kitchen_ZN_1_FLR_1 ZN PSZ-AC_1-6 Mixed Air Flow Sensor',\n",
       " 'Kitchen_ZN_1_FLR_1 ZN PSZ-AC_1-6 Outside Air Temp Sensor',\n",
       " 'Kitchen_ZN_1_FLR_1 ZN PSZ-AC_1-6 Outside Air Pressure Sensor',\n",
       " 'Kitchen_ZN_1_FLR_1 ZN PSZ-AC_1-6 Outside Air Humidity Sensor',\n",
       " 'Kitchen_ZN_1_FLR_1 ZN PSZ-AC_1-6 Outside Air Flow Sensor',\n",
       " 'Kitchen_ZN_1_FLR_1 ZN PSZ-AC_1-6 Return Air Temp Sensor',\n",
       " 'Kitchen_ZN_1_FLR_1 ZN PSZ-AC_1-6 Return Air Pressure Sensor',\n",
       " 'Kitchen_ZN_1_FLR_1 ZN PSZ-AC_1-6 Return Air Humidity Sensor',\n",
       " 'Kitchen_ZN_1_FLR_1 ZN PSZ-AC_1-6 Return Air Flow Sensor',\n",
       " 'Kitchen_ZN_1_FLR_1 ZN PSZ-AC_1-6 Exhaust Air Temp Sensor',\n",
       " 'Kitchen_ZN_1_FLR_1 ZN PSZ-AC_1-6 Exhaust Air Pressure Sensor',\n",
       " 'Kitchen_ZN_1_FLR_1 ZN PSZ-AC_1-6 Exhaust Air Humidity Sensor',\n",
       " 'Kitchen_ZN_1_FLR_1 ZN PSZ-AC_1-6 Exhaust Air Flow Sensor',\n",
       " 'Kitchen_ZN_1_FLR_1 ZN Zone Air Temp Sensor',\n",
       " 'Kitchen_ZN_1_FLR_1 ZN Zone Air Humidity Sensor',\n",
       " 'Kitchen_ZN_1_FLR_1 ZN Zone Air Cooling sp',\n",
       " 'Kitchen_ZN_1_FLR_1 ZN Zone Air Heating sp',\n",
       " 'PVAV_OTHER Discharge Air Temp Sensor',\n",
       " 'PVAV_OTHER Discharge Air Pressure Sensor',\n",
       " 'PVAV_OTHER Discharge Air Humidity Sensor',\n",
       " 'PVAV_OTHER Discharge Air Flow Sensor',\n",
       " 'PVAV_OTHER_Outside_Air_Damper_Sensor_position',\n",
       " 'PVAV_OTHER Mixed Air Temp Sensor',\n",
       " 'PVAV_OTHER Mixed Air Pressure Sensor',\n",
       " 'PVAV_OTHER Mixed Air Humidity Sensor',\n",
       " 'PVAV_OTHER Mixed Air Flow Sensor',\n",
       " 'PVAV_OTHER Outside Air Temp Sensor',\n",
       " 'PVAV_OTHER Outside Air Pressure Sensor',\n",
       " 'PVAV_OTHER Outside Air Humidity Sensor',\n",
       " 'PVAV_OTHER Outside Air Flow Sensor',\n",
       " 'PVAV_OTHER Return Air Temp Sensor',\n",
       " 'PVAV_OTHER Return Air Pressure Sensor',\n",
       " 'PVAV_OTHER Return Air Humidity Sensor',\n",
       " 'PVAV_OTHER Return Air Flow Sensor',\n",
       " 'PVAV_OTHER Exhaust Air Temp Sensor',\n",
       " 'PVAV_OTHER Exhaust Air Pressure Sensor',\n",
       " 'PVAV_OTHER Exhaust Air Humidity Sensor',\n",
       " 'PVAV_OTHER Exhaust Air Flow Sensor',\n",
       " 'Computer_Class_ZN_1_FLR_1 ZN VAV Terminal Entering Air Temp Sensor',\n",
       " 'Computer_Class_ZN_1_FLR_1 ZN VAV Terminal Discharge Air Temp Sensor',\n",
       " 'Computer_Class_ZN_1_FLR_1 ZN Zone Air Temp Sensor',\n",
       " 'Computer_Class_ZN_1_FLR_1 ZN Zone Air Humidity Sensor',\n",
       " 'Computer_Class_ZN_1_FLR_1 ZN Zone Air Cooling sp',\n",
       " 'Computer_Class_ZN_1_FLR_1 ZN Zone Air Heating sp',\n",
       " 'Main_Corridor_ZN_1_FLR_1 ZN VAV Terminal Entering Air Temp Sensor',\n",
       " 'Main_Corridor_ZN_1_FLR_1 ZN VAV Terminal Discharge Air Temp Sensor',\n",
       " 'Main_Corridor_ZN_1_FLR_1 ZN Zone Air Temp Sensor',\n",
       " 'Main_Corridor_ZN_1_FLR_1 ZN Zone Air Humidity Sensor',\n",
       " 'Main_Corridor_ZN_1_FLR_1 ZN Zone Air Cooling sp',\n",
       " 'Main_Corridor_ZN_1_FLR_1 ZN Zone Air Heating sp',\n",
       " 'Lobby_ZN_1_FLR_1 ZN VAV Terminal Entering Air Temp Sensor',\n",
       " 'Lobby_ZN_1_FLR_1 ZN VAV Terminal Discharge Air Temp Sensor',\n",
       " 'Lobby_ZN_1_FLR_1 ZN Zone Air Temp Sensor',\n",
       " 'Lobby_ZN_1_FLR_1 ZN Zone Air Humidity Sensor',\n",
       " 'Lobby_ZN_1_FLR_1 ZN Zone Air Cooling sp',\n",
       " 'Lobby_ZN_1_FLR_1 ZN Zone Air Heating sp',\n",
       " 'Mech_ZN_1_FLR_1 ZN VAV Terminal Entering Air Temp Sensor',\n",
       " 'Mech_ZN_1_FLR_1 ZN VAV Terminal Discharge Air Temp Sensor',\n",
       " 'Mech_ZN_1_FLR_1 ZN Zone Air Temp Sensor',\n",
       " 'Mech_ZN_1_FLR_1 ZN Zone Air Humidity Sensor',\n",
       " 'Mech_ZN_1_FLR_1 ZN Zone Air Cooling sp',\n",
       " 'Mech_ZN_1_FLR_1 ZN Zone Air Heating sp',\n",
       " 'Bath_ZN_1_FLR_1 ZN VAV Terminal Entering Air Temp Sensor',\n",
       " 'Bath_ZN_1_FLR_1 ZN VAV Terminal Discharge Air Temp Sensor',\n",
       " 'Bath_ZN_1_FLR_1 ZN Zone Air Temp Sensor',\n",
       " 'Bath_ZN_1_FLR_1 ZN Zone Air Humidity Sensor',\n",
       " 'Bath_ZN_1_FLR_1 ZN Zone Air Cooling sp',\n",
       " 'Bath_ZN_1_FLR_1 ZN Zone Air Heating sp',\n",
       " 'Offices_ZN_1_FLR_1 ZN VAV Terminal Entering Air Temp Sensor',\n",
       " 'Offices_ZN_1_FLR_1 ZN VAV Terminal Discharge Air Temp Sensor',\n",
       " 'Offices_ZN_1_FLR_1 ZN Zone Air Temp Sensor',\n",
       " 'Offices_ZN_1_FLR_1 ZN Zone Air Humidity Sensor',\n",
       " 'Offices_ZN_1_FLR_1 ZN Zone Air Cooling sp',\n",
       " 'Offices_ZN_1_FLR_1 ZN Zone Air Heating sp',\n",
       " 'Library_Media_Center_ZN_1_FLR_1 ZN VAV Terminal Entering Air Temp Sensor',\n",
       " 'Library_Media_Center_ZN_1_FLR_1 ZN VAV Terminal Discharge Air Temp Sensor',\n",
       " 'Library_Media_Center_ZN_1_FLR_1 ZN Zone Air Temp Sensor',\n",
       " 'Library_Media_Center_ZN_1_FLR_1 ZN Zone Air Humidity Sensor',\n",
       " 'Library_Media_Center_ZN_1_FLR_1 ZN Zone Air Cooling sp',\n",
       " 'Library_Media_Center_ZN_1_FLR_1 ZN Zone Air Heating sp',\n",
       " 'PVAV_POD_3 Discharge Air Temp Sensor',\n",
       " 'PVAV_POD_3 Discharge Air Pressure Sensor',\n",
       " 'PVAV_POD_3 Discharge Air Humidity Sensor',\n",
       " 'PVAV_POD_3 Discharge Air Flow Sensor',\n",
       " 'PVAV_POD_3_Outside_Air_Damper_Sensor_position',\n",
       " 'PVAV_POD_3 Mixed Air Temp Sensor',\n",
       " 'PVAV_POD_3 Mixed Air Pressure Sensor',\n",
       " 'PVAV_POD_3 Mixed Air Humidity Sensor',\n",
       " 'PVAV_POD_3 Mixed Air Flow Sensor',\n",
       " 'PVAV_POD_3 Outside Air Temp Sensor',\n",
       " 'PVAV_POD_3 Outside Air Pressure Sensor',\n",
       " 'PVAV_POD_3 Outside Air Humidity Sensor',\n",
       " 'PVAV_POD_3 Outside Air Flow Sensor',\n",
       " 'PVAV_POD_3 Return Air Temp Sensor',\n",
       " 'PVAV_POD_3 Return Air Pressure Sensor',\n",
       " 'PVAV_POD_3 Return Air Humidity Sensor',\n",
       " 'PVAV_POD_3 Return Air Flow Sensor',\n",
       " 'PVAV_POD_3 Exhaust Air Temp Sensor',\n",
       " 'PVAV_POD_3 Exhaust Air Pressure Sensor',\n",
       " 'PVAV_POD_3 Exhaust Air Humidity Sensor',\n",
       " 'PVAV_POD_3 Exhaust Air Flow Sensor',\n",
       " 'Corner_Class_1_Pod_3_ZN_1_FLR_1 ZN VAV Terminal Entering Air Temp Sensor',\n",
       " 'Corner_Class_1_Pod_3_ZN_1_FLR_1 ZN VAV Terminal Discharge Air Temp Sensor',\n",
       " 'Corner_Class_1_Pod_3_ZN_1_FLR_1 ZN Zone Air Temp Sensor',\n",
       " 'Corner_Class_1_Pod_3_ZN_1_FLR_1 ZN Zone Air Humidity Sensor',\n",
       " 'Corner_Class_1_Pod_3_ZN_1_FLR_1 ZN Zone Air Cooling sp',\n",
       " 'Corner_Class_1_Pod_3_ZN_1_FLR_1 ZN Zone Air Heating sp',\n",
       " 'Mult_Class_1_Pod_3_ZN_1_FLR_1 ZN VAV Terminal Entering Air Temp Sensor',\n",
       " 'Mult_Class_1_Pod_3_ZN_1_FLR_1 ZN VAV Terminal Discharge Air Temp Sensor',\n",
       " 'Mult_Class_1_Pod_3_ZN_1_FLR_1 ZN Zone Air Temp Sensor',\n",
       " 'Mult_Class_1_Pod_3_ZN_1_FLR_1 ZN Zone Air Humidity Sensor',\n",
       " 'Mult_Class_1_Pod_3_ZN_1_FLR_1 ZN Zone Air Cooling sp',\n",
       " 'Mult_Class_1_Pod_3_ZN_1_FLR_1 ZN Zone Air Heating sp',\n",
       " 'Corridor_Pod_3_ZN_1_FLR_1 ZN VAV Terminal Entering Air Temp Sensor',\n",
       " 'Corridor_Pod_3_ZN_1_FLR_1 ZN VAV Terminal Discharge Air Temp Sensor',\n",
       " 'Corridor_Pod_3_ZN_1_FLR_1 ZN Zone Air Temp Sensor',\n",
       " 'Corridor_Pod_3_ZN_1_FLR_1 ZN Zone Air Humidity Sensor',\n",
       " 'Corridor_Pod_3_ZN_1_FLR_1 ZN Zone Air Cooling sp',\n",
       " 'Corridor_Pod_3_ZN_1_FLR_1 ZN Zone Air Heating sp',\n",
       " 'Corner_Class_2_Pod_3_ZN_1_FLR_1 ZN VAV Terminal Entering Air Temp Sensor',\n",
       " 'Corner_Class_2_Pod_3_ZN_1_FLR_1 ZN VAV Terminal Discharge Air Temp Sensor',\n",
       " 'Corner_Class_2_Pod_3_ZN_1_FLR_1 ZN Zone Air Temp Sensor',\n",
       " 'Corner_Class_2_Pod_3_ZN_1_FLR_1 ZN Zone Air Humidity Sensor',\n",
       " 'Corner_Class_2_Pod_3_ZN_1_FLR_1 ZN Zone Air Cooling sp',\n",
       " 'Corner_Class_2_Pod_3_ZN_1_FLR_1 ZN Zone Air Heating sp',\n",
       " 'Mult_Class_2_Pod_3_ZN_1_FLR_1 ZN VAV Terminal Entering Air Temp Sensor',\n",
       " 'Mult_Class_2_Pod_3_ZN_1_FLR_1 ZN VAV Terminal Discharge Air Temp Sensor',\n",
       " 'Mult_Class_2_Pod_3_ZN_1_FLR_1 ZN Zone Air Temp Sensor',\n",
       " 'Mult_Class_2_Pod_3_ZN_1_FLR_1 ZN Zone Air Humidity Sensor',\n",
       " 'Mult_Class_2_Pod_3_ZN_1_FLR_1 ZN Zone Air Cooling sp',\n",
       " 'Mult_Class_2_Pod_3_ZN_1_FLR_1 ZN Zone Air Heating sp',\n",
       " 'PVAV_POD_2 Discharge Air Temp Sensor',\n",
       " 'PVAV_POD_2 Discharge Air Pressure Sensor',\n",
       " 'PVAV_POD_2 Discharge Air Humidity Sensor',\n",
       " 'PVAV_POD_2 Discharge Air Flow Sensor',\n",
       " 'PVAV_POD_2_Outside_Air_Damper_Sensor_position',\n",
       " 'PVAV_POD_2 Mixed Air Temp Sensor',\n",
       " 'PVAV_POD_2 Mixed Air Pressure Sensor',\n",
       " 'PVAV_POD_2 Mixed Air Humidity Sensor',\n",
       " 'PVAV_POD_2 Mixed Air Flow Sensor',\n",
       " 'PVAV_POD_2 Outside Air Temp Sensor',\n",
       " 'PVAV_POD_2 Outside Air Pressure Sensor',\n",
       " 'PVAV_POD_2 Outside Air Humidity Sensor',\n",
       " 'PVAV_POD_2 Outside Air Flow Sensor',\n",
       " 'PVAV_POD_2 Return Air Temp Sensor',\n",
       " 'PVAV_POD_2 Return Air Pressure Sensor',\n",
       " 'PVAV_POD_2 Return Air Humidity Sensor',\n",
       " 'PVAV_POD_2 Return Air Flow Sensor',\n",
       " 'PVAV_POD_2 Exhaust Air Temp Sensor',\n",
       " 'PVAV_POD_2 Exhaust Air Pressure Sensor',\n",
       " 'PVAV_POD_2 Exhaust Air Humidity Sensor',\n",
       " 'PVAV_POD_2 Exhaust Air Flow Sensor',\n",
       " 'Mult_Class_1_Pod_2_ZN_1_FLR_1 ZN VAV Terminal Entering Air Temp Sensor',\n",
       " 'Mult_Class_1_Pod_2_ZN_1_FLR_1 ZN VAV Terminal Discharge Air Temp Sensor',\n",
       " 'Mult_Class_1_Pod_2_ZN_1_FLR_1 ZN Zone Air Temp Sensor',\n",
       " 'Mult_Class_1_Pod_2_ZN_1_FLR_1 ZN Zone Air Humidity Sensor',\n",
       " 'Mult_Class_1_Pod_2_ZN_1_FLR_1 ZN Zone Air Cooling sp',\n",
       " 'Mult_Class_1_Pod_2_ZN_1_FLR_1 ZN Zone Air Heating sp',\n",
       " 'Corridor_Pod_2_ZN_1_FLR_1 ZN VAV Terminal Entering Air Temp Sensor',\n",
       " 'Corridor_Pod_2_ZN_1_FLR_1 ZN VAV Terminal Discharge Air Temp Sensor',\n",
       " 'Corridor_Pod_2_ZN_1_FLR_1 ZN Zone Air Temp Sensor',\n",
       " 'Corridor_Pod_2_ZN_1_FLR_1 ZN Zone Air Humidity Sensor',\n",
       " 'Corridor_Pod_2_ZN_1_FLR_1 ZN Zone Air Cooling sp',\n",
       " 'Corridor_Pod_2_ZN_1_FLR_1 ZN Zone Air Heating sp',\n",
       " 'Corner_Class_2_Pod_2_ZN_1_FLR_1 ZN VAV Terminal Entering Air Temp Sensor',\n",
       " 'Corner_Class_2_Pod_2_ZN_1_FLR_1 ZN VAV Terminal Discharge Air Temp Sensor',\n",
       " 'Corner_Class_2_Pod_2_ZN_1_FLR_1 ZN Zone Air Temp Sensor',\n",
       " 'Corner_Class_2_Pod_2_ZN_1_FLR_1 ZN Zone Air Humidity Sensor',\n",
       " 'Corner_Class_2_Pod_2_ZN_1_FLR_1 ZN Zone Air Cooling sp',\n",
       " 'Corner_Class_2_Pod_2_ZN_1_FLR_1 ZN Zone Air Heating sp',\n",
       " 'Mult_Class_2_Pod_2_ZN_1_FLR_1 ZN VAV Terminal Entering Air Temp Sensor',\n",
       " 'Mult_Class_2_Pod_2_ZN_1_FLR_1 ZN VAV Terminal Discharge Air Temp Sensor',\n",
       " 'Mult_Class_2_Pod_2_ZN_1_FLR_1 ZN Zone Air Temp Sensor',\n",
       " 'Mult_Class_2_Pod_2_ZN_1_FLR_1 ZN Zone Air Humidity Sensor',\n",
       " 'Mult_Class_2_Pod_2_ZN_1_FLR_1 ZN Zone Air Cooling sp',\n",
       " 'Mult_Class_2_Pod_2_ZN_1_FLR_1 ZN Zone Air Heating sp',\n",
       " 'Corner_Class_1_Pod_2_ZN_1_FLR_1 ZN VAV Terminal Entering Air Temp Sensor',\n",
       " 'Corner_Class_1_Pod_2_ZN_1_FLR_1 ZN VAV Terminal Discharge Air Temp Sensor',\n",
       " 'Corner_Class_1_Pod_2_ZN_1_FLR_1 ZN Zone Air Temp Sensor',\n",
       " 'Corner_Class_1_Pod_2_ZN_1_FLR_1 ZN Zone Air Humidity Sensor',\n",
       " 'Corner_Class_1_Pod_2_ZN_1_FLR_1 ZN Zone Air Cooling sp',\n",
       " 'Corner_Class_1_Pod_2_ZN_1_FLR_1 ZN Zone Air Heating sp',\n",
       " 'PVAV_POD_1 Discharge Air Temp Sensor',\n",
       " 'PVAV_POD_1 Discharge Air Pressure Sensor',\n",
       " 'PVAV_POD_1 Discharge Air Humidity Sensor',\n",
       " 'PVAV_POD_1 Discharge Air Flow Sensor',\n",
       " 'PVAV_POD_1_Outside_Air_Damper_Sensor_position',\n",
       " 'PVAV_POD_1 Mixed Air Temp Sensor',\n",
       " 'PVAV_POD_1 Mixed Air Pressure Sensor',\n",
       " 'PVAV_POD_1 Mixed Air Humidity Sensor',\n",
       " 'PVAV_POD_1 Mixed Air Flow Sensor',\n",
       " 'PVAV_POD_1 Outside Air Temp Sensor',\n",
       " 'PVAV_POD_1 Outside Air Pressure Sensor',\n",
       " 'PVAV_POD_1 Outside Air Humidity Sensor',\n",
       " 'PVAV_POD_1 Outside Air Flow Sensor',\n",
       " 'PVAV_POD_1 Return Air Temp Sensor',\n",
       " 'PVAV_POD_1 Return Air Pressure Sensor',\n",
       " 'PVAV_POD_1 Return Air Humidity Sensor',\n",
       " 'PVAV_POD_1 Return Air Flow Sensor',\n",
       " 'PVAV_POD_1 Exhaust Air Temp Sensor',\n",
       " 'PVAV_POD_1 Exhaust Air Pressure Sensor',\n",
       " 'PVAV_POD_1 Exhaust Air Humidity Sensor',\n",
       " 'PVAV_POD_1 Exhaust Air Flow Sensor',\n",
       " 'Corner_Class_1_Pod_1_ZN_1_FLR_1 ZN VAV Terminal Entering Air Temp Sensor',\n",
       " 'Corner_Class_1_Pod_1_ZN_1_FLR_1 ZN VAV Terminal Discharge Air Temp Sensor',\n",
       " 'Corner_Class_1_Pod_1_ZN_1_FLR_1 ZN Zone Air Temp Sensor',\n",
       " 'Corner_Class_1_Pod_1_ZN_1_FLR_1 ZN Zone Air Humidity Sensor',\n",
       " 'Corner_Class_1_Pod_1_ZN_1_FLR_1 ZN Zone Air Cooling sp',\n",
       " 'Corner_Class_1_Pod_1_ZN_1_FLR_1 ZN Zone Air Heating sp',\n",
       " 'Mult_Class_1_Pod_1_ZN_1_FLR_1 ZN VAV Terminal Entering Air Temp Sensor',\n",
       " 'Mult_Class_1_Pod_1_ZN_1_FLR_1 ZN VAV Terminal Discharge Air Temp Sensor',\n",
       " 'Mult_Class_1_Pod_1_ZN_1_FLR_1 ZN Zone Air Temp Sensor',\n",
       " 'Mult_Class_1_Pod_1_ZN_1_FLR_1 ZN Zone Air Humidity Sensor',\n",
       " 'Mult_Class_1_Pod_1_ZN_1_FLR_1 ZN Zone Air Cooling sp',\n",
       " 'Mult_Class_1_Pod_1_ZN_1_FLR_1 ZN Zone Air Heating sp',\n",
       " 'Corridor_Pod_1_ZN_1_FLR_1 ZN VAV Terminal Entering Air Temp Sensor',\n",
       " 'Corridor_Pod_1_ZN_1_FLR_1 ZN VAV Terminal Discharge Air Temp Sensor',\n",
       " 'Corridor_Pod_1_ZN_1_FLR_1 ZN Zone Air Temp Sensor',\n",
       " 'Corridor_Pod_1_ZN_1_FLR_1 ZN Zone Air Humidity Sensor',\n",
       " 'Corridor_Pod_1_ZN_1_FLR_1 ZN Zone Air Cooling sp',\n",
       " 'Corridor_Pod_1_ZN_1_FLR_1 ZN Zone Air Heating sp',\n",
       " 'Corner_Class_2_Pod_1_ZN_1_FLR_1 ZN VAV Terminal Entering Air Temp Sensor',\n",
       " 'Corner_Class_2_Pod_1_ZN_1_FLR_1 ZN VAV Terminal Discharge Air Temp Sensor',\n",
       " 'Corner_Class_2_Pod_1_ZN_1_FLR_1 ZN Zone Air Temp Sensor',\n",
       " 'Corner_Class_2_Pod_1_ZN_1_FLR_1 ZN Zone Air Humidity Sensor',\n",
       " 'Corner_Class_2_Pod_1_ZN_1_FLR_1 ZN Zone Air Cooling sp',\n",
       " 'Corner_Class_2_Pod_1_ZN_1_FLR_1 ZN Zone Air Heating sp',\n",
       " 'Mult_Class_2_Pod_1_ZN_1_FLR_1 ZN VAV Terminal Entering Air Temp Sensor',\n",
       " 'Mult_Class_2_Pod_1_ZN_1_FLR_1 ZN VAV Terminal Discharge Air Temp Sensor',\n",
       " 'Mult_Class_2_Pod_1_ZN_1_FLR_1 ZN Zone Air Temp Sensor',\n",
       " 'Mult_Class_2_Pod_1_ZN_1_FLR_1 ZN Zone Air Humidity Sensor',\n",
       " 'Mult_Class_2_Pod_1_ZN_1_FLR_1 ZN Zone Air Cooling sp',\n",
       " 'Mult_Class_2_Pod_1_ZN_1_FLR_1 ZN Zone Air Heating sp']"
      ]
     },
     "execution_count": 12,
     "metadata": {},
     "output_type": "execute_result"
    }
   ],
   "source": [
    "client.all_cur_points(ref)"
   ]
  },
  {
   "cell_type": "code",
   "execution_count": 13,
   "metadata": {},
   "outputs": [
    {
     "data": {
      "text/plain": [
       "['_kitchen_zn_1_flr_1_zn_psz_ac_1_6_supply_outlet_node_Setpoint\\n',\n",
       " '_gym_zn_1_flr_1_zn_psz_ac_2_5_supply_outlet_node_Setpoint',\n",
       " '_cafeteria_zn_1_flr_1_zn_psz_ac_2_7_supply_outlet_node_Setpoint',\n",
       " 'Cafeteria_ZN_1_FLR_1_ZN_PSZ_AC_2_7_Outside_Air_Damper_CMD',\n",
       " 'Gym_ZN_1_FLR_1_ZN_PSZ_AC_2_5_Outside_Air_Damper_CMD',\n",
       " 'Kitchen_ZN_1_FLR_1_ZN_PSZ_AC_1_6_Outside_Air_Damper_CMD',\n",
       " 'PVAV_OTHER_Outside_Air_Damper_CMD',\n",
       " 'PVAV_POD_3_Outside_Air_Damper_CMD',\n",
       " 'PVAV_POD_2_Outside_Air_Damper_CMD',\n",
       " 'PVAV_POD_1_Outside_Air_Damper_CMD']"
      ]
     },
     "execution_count": 13,
     "metadata": {},
     "output_type": "execute_result"
    }
   ],
   "source": [
    "client.all_writable_points(ref)"
   ]
  },
  {
   "cell_type": "code",
   "execution_count": 9,
   "metadata": {},
   "outputs": [],
   "source": [
    "u = {\n",
    "    'Cafeteria_ZN_1_FLR_1_ZN_PSZ_AC_2_7_Outside_Air_Damper_CMD' : 1.0\n",
    "}\n",
    "client.setInputs(ref, u)"
   ]
  },
  {
   "cell_type": "code",
   "execution_count": 14,
   "metadata": {},
   "outputs": [],
   "source": [
    "client.advance(ref)"
   ]
  },
  {
   "cell_type": "code",
   "execution_count": 11,
   "metadata": {},
   "outputs": [
    {
     "data": {
      "text/plain": [
       "'READY'"
      ]
     },
     "execution_count": 11,
     "metadata": {},
     "output_type": "execute_result"
    }
   ],
   "source": [
    "client.status(ref)"
   ]
  },
  {
   "cell_type": "code",
   "execution_count": 15,
   "metadata": {},
   "outputs": [
    {
     "data": {
      "text/plain": [
       "{}"
      ]
     },
     "execution_count": 15,
     "metadata": {},
     "output_type": "execute_result"
    }
   ],
   "source": [
    "res = client.outputs(ref)\n",
    "res"
   ]
  },
  {
   "cell_type": "code",
   "execution_count": 16,
   "metadata": {},
   "outputs": [
    {
     "data": {
      "text/plain": [
       "{'Cafeteria_ZN_1_FLR_1_ZN_PSZ_AC_2_7_Outside_Air_Damper_CMD': 'ok',\n",
       " 'Gym_ZN_1_FLR_1_ZN_PSZ_AC_2_5_Outside_Air_Damper_CMD': 'ok',\n",
       " 'Kitchen_ZN_1_FLR_1_ZN_PSZ_AC_1_6_Outside_Air_Damper_CMD': 'ok',\n",
       " 'PVAV_OTHER_Outside_Air_Damper_CMD': 'ok',\n",
       " 'PVAV_POD_3_Outside_Air_Damper_CMD': 'ok',\n",
       " 'PVAV_POD_2_Outside_Air_Damper_CMD': 'ok',\n",
       " 'PVAV_POD_1_Outside_Air_Damper_CMD': 'ok'}"
      ]
     },
     "execution_count": 16,
     "metadata": {},
     "output_type": "execute_result"
    }
   ],
   "source": [
    "inp = client.inputs(ref)\n",
    "inp"
   ]
  }
 ],
 "metadata": {
  "kernelspec": {
   "display_name": "Python 3.9.6 64-bit",
   "language": "python",
   "name": "python3"
  },
  "language_info": {
   "codemirror_mode": {
    "name": "ipython",
    "version": 3
   },
   "file_extension": ".py",
   "mimetype": "text/x-python",
   "name": "python",
   "nbconvert_exporter": "python",
   "pygments_lexer": "ipython3",
   "version": "3.9.6"
  },
  "orig_nbformat": 4,
  "vscode": {
   "interpreter": {
    "hash": "5edc29c2ed010d6458d71a83433b383a96a8cbd3efe8531bc90c4b8a5b8bcec9"
   }
  }
 },
 "nbformat": 4,
 "nbformat_minor": 2
}
