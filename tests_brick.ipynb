{
 "cells": [
  {
   "cell_type": "code",
   "execution_count": 1,
   "metadata": {},
   "outputs": [],
   "source": [
    "import alfalfa_client.alfalfa_client as ac\n",
    "import alfalfa_client.historian as ah"
   ]
  },
  {
   "cell_type": "code",
   "execution_count": 2,
   "metadata": {},
   "outputs": [],
   "source": [
    "import os\n",
    "#zippath = \"smalloffice.zip\"\n",
    "#zippath = \"examples/primaryschool_modelmeasure.zip\"\n",
    "zippath = \"examples/primaryschool.zip\"\n"
   ]
  },
  {
   "cell_type": "code",
   "execution_count": 3,
   "metadata": {},
   "outputs": [
    {
     "name": "stdout",
     "output_type": "stream",
     "text": [
      "Desired status: READY\t\tCurrent status: PREPROCESSING\n",
      "Desired status: READY\t\tCurrent status: PREPROCESSING\n"
     ]
    }
   ],
   "source": [
    "client = ac.AlfalfaClient()\n",
    "historian = ah.Historian()\n",
    "ref = client.submit(path=os.path.join('.', zippath))"
   ]
  },
  {
   "cell_type": "code",
   "execution_count": 4,
   "metadata": {},
   "outputs": [
    {
     "data": {
      "text/plain": [
       "'7cba3d70-92cb-11ed-946c-0fda68ac4a60'"
      ]
     },
     "execution_count": 4,
     "metadata": {},
     "output_type": "execute_result"
    }
   ],
   "source": [
    "ref"
   ]
  },
  {
   "cell_type": "code",
   "execution_count": 5,
   "metadata": {},
   "outputs": [
    {
     "data": {
      "text/plain": [
       "'2022-01-01 00:00:00'"
      ]
     },
     "execution_count": 5,
     "metadata": {},
     "output_type": "execute_result"
    }
   ],
   "source": [
    "import datetime\n",
    "datetime.datetime(2022, 1, 1, 0, 0, 0).strftime('%Y-%m-%d %H:%M:%S')"
   ]
  },
  {
   "cell_type": "code",
   "execution_count": 6,
   "metadata": {},
   "outputs": [
    {
     "name": "stdout",
     "output_type": "stream",
     "text": [
      "Desired status: RUNNING\t\tCurrent status: STARTED\n",
      "Desired status: RUNNING\t\tCurrent status: STARTED\n",
      "Desired status: RUNNING\t\tCurrent status: STARTED\n"
     ]
    },
    {
     "ename": "AlfalfaException",
     "evalue": "Traceback (most recent call last):\n  File \"/alfalfa/alfalfa_worker/lib/job.py\", line 104, in start\n    self.exec()\n  File \"/alfalfa/alfalfa_worker/jobs/step_run_base.py\", line 108, in exec\n    self.advance_to_start_time()\n  File \"/alfalfa/alfalfa_worker/jobs/openstudio/step_run.py\", line 100, in advance_to_start_time\n    self.update_outputs_from_ep()\n  File \"/alfalfa/alfalfa_worker/jobs/openstudio/step_run.py\", line 120, in update_outputs_from_ep\n    _flag, _, outputs = mlep.mlep_decode_packet(packet)\n  File \"/usr/local/lib/python3.8/dist-packages/mlep/mlep_decode_packet.py\", line 110, in mlep_decode_packet\n    raise mlep.InputError('mlepDecodePacket', 'Invalid packet format: length is only %d.' % data_len)\nmlep.mlep_error.InputError: ('mlepDecodePacket', 'Invalid packet format: length is only 0.')\n",
     "output_type": "error",
     "traceback": [
      "\u001b[0;31m---------------------------------------------------------------------------\u001b[0m",
      "\u001b[0;31mAlfalfaException\u001b[0m                          Traceback (most recent call last)",
      "Cell \u001b[0;32mIn [6], line 1\u001b[0m\n\u001b[0;32m----> 1\u001b[0m inp \u001b[39m=\u001b[39m client\u001b[39m.\u001b[39;49mstart(site_id\u001b[39m=\u001b[39;49mref, start_datetime\u001b[39m=\u001b[39;49mdatetime\u001b[39m.\u001b[39;49mdatetime(\u001b[39m2022\u001b[39;49m, \u001b[39m1\u001b[39;49m, \u001b[39m1\u001b[39;49m, \u001b[39m0\u001b[39;49m, \u001b[39m0\u001b[39;49m, \u001b[39m0\u001b[39;49m)\u001b[39m.\u001b[39;49mstrftime(\u001b[39m'\u001b[39;49m\u001b[39m%\u001b[39;49m\u001b[39mY-\u001b[39;49m\u001b[39m%\u001b[39;49m\u001b[39mm-\u001b[39;49m\u001b[39m%d\u001b[39;49;00m\u001b[39m \u001b[39;49m\u001b[39m%\u001b[39;49m\u001b[39mH:\u001b[39;49m\u001b[39m%\u001b[39;49m\u001b[39mM:\u001b[39;49m\u001b[39m%\u001b[39;49m\u001b[39mS\u001b[39;49m\u001b[39m'\u001b[39;49m), end_datetime\u001b[39m=\u001b[39;49mdatetime\u001b[39m.\u001b[39;49mdatetime(\u001b[39m2022\u001b[39;49m, \u001b[39m2\u001b[39;49m, \u001b[39m1\u001b[39;49m, \u001b[39m0\u001b[39;49m, \u001b[39m0\u001b[39;49m, \u001b[39m0\u001b[39;49m)\u001b[39m.\u001b[39;49mstrftime(\u001b[39m'\u001b[39;49m\u001b[39m%\u001b[39;49m\u001b[39mY-\u001b[39;49m\u001b[39m%\u001b[39;49m\u001b[39mm-\u001b[39;49m\u001b[39m%d\u001b[39;49;00m\u001b[39m \u001b[39;49m\u001b[39m%\u001b[39;49m\u001b[39mH:\u001b[39;49m\u001b[39m%\u001b[39;49m\u001b[39mM:\u001b[39;49m\u001b[39m%\u001b[39;49m\u001b[39mS\u001b[39;49m\u001b[39m'\u001b[39;49m), wait_for_status\u001b[39m=\u001b[39;49m\u001b[39mTrue\u001b[39;49;00m)\n",
      "File \u001b[0;32m/usr/local/lib/python3.10/site-packages/alfalfa_client/alfalfa_client.py:83\u001b[0m, in \u001b[0;36mAlfalfaClient.start\u001b[0;34m(self, site_id, **kwargs)\u001b[0m\n\u001b[1;32m     81\u001b[0m \u001b[39mdef\u001b[39;00m \u001b[39mstart\u001b[39m(\u001b[39mself\u001b[39m, site_id, \u001b[39m*\u001b[39m\u001b[39m*\u001b[39mkwargs):\n\u001b[1;32m     82\u001b[0m     args \u001b[39m=\u001b[39m {\u001b[39m\"\u001b[39m\u001b[39murl\u001b[39m\u001b[39m\"\u001b[39m: \u001b[39mself\u001b[39m\u001b[39m.\u001b[39murl, \u001b[39m\"\u001b[39m\u001b[39msite_id\u001b[39m\u001b[39m\"\u001b[39m: site_id, \u001b[39m\"\u001b[39m\u001b[39mkwargs\u001b[39m\u001b[39m\"\u001b[39m: kwargs}\n\u001b[0;32m---> 83\u001b[0m     \u001b[39mreturn\u001b[39;00m start_one(args)\n",
      "File \u001b[0;32m/usr/local/lib/python3.10/site-packages/alfalfa_client/lib.py:205\u001b[0m, in \u001b[0;36mstart_one\u001b[0;34m(args)\u001b[0m\n\u001b[1;32m    202\u001b[0m         \u001b[39mprint\u001b[39m(\u001b[39m\"\u001b[39m\u001b[39mStart one status code: \u001b[39m\u001b[39m{}\u001b[39;00m\u001b[39m\"\u001b[39m\u001b[39m.\u001b[39mformat(response\u001b[39m.\u001b[39mstatus_code))\n\u001b[1;32m    203\u001b[0m         \u001b[39mprint\u001b[39m(\u001b[39mf\u001b[39m\u001b[39m\"\u001b[39m\u001b[39mstart_one error: \u001b[39m\u001b[39m{\u001b[39;00mresponse\u001b[39m.\u001b[39mcontent\u001b[39m}\u001b[39;00m\u001b[39m\"\u001b[39m)\n\u001b[0;32m--> 205\u001b[0m wait(url, site_id, \u001b[39m\"\u001b[39;49m\u001b[39mRUNNING\u001b[39;49m\u001b[39m\"\u001b[39;49m)\n",
      "File \u001b[0;32m/usr/local/lib/python3.10/site-packages/alfalfa_client/lib.py:109\u001b[0m, in \u001b[0;36mwait\u001b[0;34m(url, run_id, desired_status)\u001b[0m\n\u001b[1;32m    107\u001b[0m \u001b[39mif\u001b[39;00m current_status \u001b[39m==\u001b[39m \u001b[39m\"\u001b[39m\u001b[39mERROR\u001b[39m\u001b[39m\"\u001b[39m:\n\u001b[1;32m    108\u001b[0m     error_log \u001b[39m=\u001b[39m get_error_log(url, run_id)\n\u001b[0;32m--> 109\u001b[0m     \u001b[39mraise\u001b[39;00m AlfalfaException(error_log)\n\u001b[1;32m    111\u001b[0m \u001b[39mif\u001b[39;00m desired_status:\n\u001b[1;32m    112\u001b[0m     \u001b[39mif\u001b[39;00m attempts \u001b[39m%\u001b[39m \u001b[39m2\u001b[39m \u001b[39m==\u001b[39m \u001b[39m0\u001b[39m:\n",
      "\u001b[0;31mAlfalfaException\u001b[0m: Traceback (most recent call last):\n  File \"/alfalfa/alfalfa_worker/lib/job.py\", line 104, in start\n    self.exec()\n  File \"/alfalfa/alfalfa_worker/jobs/step_run_base.py\", line 108, in exec\n    self.advance_to_start_time()\n  File \"/alfalfa/alfalfa_worker/jobs/openstudio/step_run.py\", line 100, in advance_to_start_time\n    self.update_outputs_from_ep()\n  File \"/alfalfa/alfalfa_worker/jobs/openstudio/step_run.py\", line 120, in update_outputs_from_ep\n    _flag, _, outputs = mlep.mlep_decode_packet(packet)\n  File \"/usr/local/lib/python3.8/dist-packages/mlep/mlep_decode_packet.py\", line 110, in mlep_decode_packet\n    raise mlep.InputError('mlepDecodePacket', 'Invalid packet format: length is only %d.' % data_len)\nmlep.mlep_error.InputError: ('mlepDecodePacket', 'Invalid packet format: length is only 0.')\n"
     ]
    }
   ],
   "source": [
    "inp = client.start(site_id=ref, start_datetime=datetime.datetime(2022, 1, 1, 0, 0, 0).strftime('%Y-%m-%d %H:%M:%S'), end_datetime=datetime.datetime(2022, 2, 1, 0, 0, 0).strftime('%Y-%m-%d %H:%M:%S'), wait_for_status=True)"
   ]
  },
  {
   "cell_type": "code",
   "execution_count": 10,
   "metadata": {},
   "outputs": [
    {
     "data": {
      "text/plain": [
       "'READY'"
      ]
     },
     "execution_count": 10,
     "metadata": {},
     "output_type": "execute_result"
    }
   ],
   "source": [
    "client.status(ref)"
   ]
  },
  {
   "cell_type": "code",
   "execution_count": 11,
   "metadata": {},
   "outputs": [
    {
     "data": {
      "text/plain": [
       "{}"
      ]
     },
     "execution_count": 11,
     "metadata": {},
     "output_type": "execute_result"
    }
   ],
   "source": [
    "client.outputs(ref)"
   ]
  },
  {
   "cell_type": "code",
   "execution_count": 12,
   "metadata": {},
   "outputs": [
    {
     "data": {
      "text/plain": [
       "['Cafeteria_ZN_1_FLR_1 ZN PSZ-AC_2-7 Discharge Air Temp Sensor',\n",
       " 'Cafeteria_ZN_1_FLR_1 ZN PSZ-AC_2-7 Discharge Air Pressure Sensor',\n",
       " 'Cafeteria_ZN_1_FLR_1 ZN PSZ-AC_2-7 Discharge Air Humidity Sensor',\n",
       " 'Cafeteria_ZN_1_FLR_1 ZN PSZ-AC_2-7 Discharge Air Flow Sensor',\n",
       " 'Cafeteria_ZN_1_FLR_1_ZN_PSZ_AC_2_7_Outside_Air_Damper_Sensor_position',\n",
       " 'Cafeteria_ZN_1_FLR_1 ZN PSZ-AC_2-7 Mixed Air Temp Sensor',\n",
       " 'Cafeteria_ZN_1_FLR_1 ZN PSZ-AC_2-7 Mixed Air Pressure Sensor',\n",
       " 'Cafeteria_ZN_1_FLR_1 ZN PSZ-AC_2-7 Mixed Air Humidity Sensor',\n",
       " 'Cafeteria_ZN_1_FLR_1 ZN PSZ-AC_2-7 Mixed Air Flow Sensor',\n",
       " 'Cafeteria_ZN_1_FLR_1 ZN PSZ-AC_2-7 Outside Air Temp Sensor',\n",
       " 'Cafeteria_ZN_1_FLR_1 ZN PSZ-AC_2-7 Outside Air Pressure Sensor',\n",
       " 'Cafeteria_ZN_1_FLR_1 ZN PSZ-AC_2-7 Outside Air Humidity Sensor',\n",
       " 'Cafeteria_ZN_1_FLR_1 ZN PSZ-AC_2-7 Outside Air Flow Sensor',\n",
       " 'Cafeteria_ZN_1_FLR_1 ZN PSZ-AC_2-7 Return Air Temp Sensor',\n",
       " 'Cafeteria_ZN_1_FLR_1 ZN PSZ-AC_2-7 Return Air Pressure Sensor',\n",
       " 'Cafeteria_ZN_1_FLR_1 ZN PSZ-AC_2-7 Return Air Humidity Sensor',\n",
       " 'Cafeteria_ZN_1_FLR_1 ZN PSZ-AC_2-7 Return Air Flow Sensor',\n",
       " 'Cafeteria_ZN_1_FLR_1 ZN PSZ-AC_2-7 Exhaust Air Temp Sensor',\n",
       " 'Cafeteria_ZN_1_FLR_1 ZN PSZ-AC_2-7 Exhaust Air Pressure Sensor',\n",
       " 'Cafeteria_ZN_1_FLR_1 ZN PSZ-AC_2-7 Exhaust Air Humidity Sensor',\n",
       " 'Cafeteria_ZN_1_FLR_1 ZN PSZ-AC_2-7 Exhaust Air Flow Sensor',\n",
       " 'Cafeteria_ZN_1_FLR_1 ZN Zone Air Temp Sensor',\n",
       " 'Cafeteria_ZN_1_FLR_1 ZN Zone Air Humidity Sensor',\n",
       " 'Cafeteria_ZN_1_FLR_1 ZN Zone Air Cooling sp',\n",
       " 'Cafeteria_ZN_1_FLR_1 ZN Zone Air Heating sp',\n",
       " 'Gym_ZN_1_FLR_1 ZN PSZ-AC_2-5 Discharge Air Temp Sensor',\n",
       " 'Gym_ZN_1_FLR_1 ZN PSZ-AC_2-5 Discharge Air Pressure Sensor',\n",
       " 'Gym_ZN_1_FLR_1 ZN PSZ-AC_2-5 Discharge Air Humidity Sensor',\n",
       " 'Gym_ZN_1_FLR_1 ZN PSZ-AC_2-5 Discharge Air Flow Sensor',\n",
       " 'Gym_ZN_1_FLR_1_ZN_PSZ_AC_2_5_Outside_Air_Damper_Sensor_position',\n",
       " 'Gym_ZN_1_FLR_1 ZN PSZ-AC_2-5 Mixed Air Temp Sensor',\n",
       " 'Gym_ZN_1_FLR_1 ZN PSZ-AC_2-5 Mixed Air Pressure Sensor',\n",
       " 'Gym_ZN_1_FLR_1 ZN PSZ-AC_2-5 Mixed Air Humidity Sensor',\n",
       " 'Gym_ZN_1_FLR_1 ZN PSZ-AC_2-5 Mixed Air Flow Sensor',\n",
       " 'Gym_ZN_1_FLR_1 ZN PSZ-AC_2-5 Outside Air Temp Sensor',\n",
       " 'Gym_ZN_1_FLR_1 ZN PSZ-AC_2-5 Outside Air Pressure Sensor',\n",
       " 'Gym_ZN_1_FLR_1 ZN PSZ-AC_2-5 Outside Air Humidity Sensor',\n",
       " 'Gym_ZN_1_FLR_1 ZN PSZ-AC_2-5 Outside Air Flow Sensor',\n",
       " 'Gym_ZN_1_FLR_1 ZN PSZ-AC_2-5 Return Air Temp Sensor',\n",
       " 'Gym_ZN_1_FLR_1 ZN PSZ-AC_2-5 Return Air Pressure Sensor',\n",
       " 'Gym_ZN_1_FLR_1 ZN PSZ-AC_2-5 Return Air Humidity Sensor',\n",
       " 'Gym_ZN_1_FLR_1 ZN PSZ-AC_2-5 Return Air Flow Sensor',\n",
       " 'Gym_ZN_1_FLR_1 ZN PSZ-AC_2-5 Exhaust Air Temp Sensor',\n",
       " 'Gym_ZN_1_FLR_1 ZN PSZ-AC_2-5 Exhaust Air Pressure Sensor',\n",
       " 'Gym_ZN_1_FLR_1 ZN PSZ-AC_2-5 Exhaust Air Humidity Sensor',\n",
       " 'Gym_ZN_1_FLR_1 ZN PSZ-AC_2-5 Exhaust Air Flow Sensor',\n",
       " 'Gym_ZN_1_FLR_1 ZN Zone Air Temp Sensor',\n",
       " 'Gym_ZN_1_FLR_1 ZN Zone Air Humidity Sensor',\n",
       " 'Gym_ZN_1_FLR_1 ZN Zone Air Cooling sp',\n",
       " 'Gym_ZN_1_FLR_1 ZN Zone Air Heating sp',\n",
       " 'Kitchen_ZN_1_FLR_1 ZN PSZ-AC_1-6 Discharge Air Temp Sensor',\n",
       " 'Kitchen_ZN_1_FLR_1 ZN PSZ-AC_1-6 Discharge Air Pressure Sensor',\n",
       " 'Kitchen_ZN_1_FLR_1 ZN PSZ-AC_1-6 Discharge Air Humidity Sensor',\n",
       " 'Kitchen_ZN_1_FLR_1 ZN PSZ-AC_1-6 Discharge Air Flow Sensor',\n",
       " 'Kitchen_ZN_1_FLR_1_ZN_PSZ_AC_1_6_Outside_Air_Damper_Sensor_position',\n",
       " 'Kitchen_ZN_1_FLR_1 ZN PSZ-AC_1-6 Mixed Air Temp Sensor',\n",
       " 'Kitchen_ZN_1_FLR_1 ZN PSZ-AC_1-6 Mixed Air Pressure Sensor',\n",
       " 'Kitchen_ZN_1_FLR_1 ZN PSZ-AC_1-6 Mixed Air Humidity Sensor',\n",
       " 'Kitchen_ZN_1_FLR_1 ZN PSZ-AC_1-6 Mixed Air Flow Sensor',\n",
       " 'Kitchen_ZN_1_FLR_1 ZN PSZ-AC_1-6 Outside Air Temp Sensor',\n",
       " 'Kitchen_ZN_1_FLR_1 ZN PSZ-AC_1-6 Outside Air Pressure Sensor',\n",
       " 'Kitchen_ZN_1_FLR_1 ZN PSZ-AC_1-6 Outside Air Humidity Sensor',\n",
       " 'Kitchen_ZN_1_FLR_1 ZN PSZ-AC_1-6 Outside Air Flow Sensor',\n",
       " 'Kitchen_ZN_1_FLR_1 ZN PSZ-AC_1-6 Return Air Temp Sensor',\n",
       " 'Kitchen_ZN_1_FLR_1 ZN PSZ-AC_1-6 Return Air Pressure Sensor',\n",
       " 'Kitchen_ZN_1_FLR_1 ZN PSZ-AC_1-6 Return Air Humidity Sensor',\n",
       " 'Kitchen_ZN_1_FLR_1 ZN PSZ-AC_1-6 Return Air Flow Sensor',\n",
       " 'Kitchen_ZN_1_FLR_1 ZN PSZ-AC_1-6 Exhaust Air Temp Sensor',\n",
       " 'Kitchen_ZN_1_FLR_1 ZN PSZ-AC_1-6 Exhaust Air Pressure Sensor',\n",
       " 'Kitchen_ZN_1_FLR_1 ZN PSZ-AC_1-6 Exhaust Air Humidity Sensor',\n",
       " 'Kitchen_ZN_1_FLR_1 ZN PSZ-AC_1-6 Exhaust Air Flow Sensor',\n",
       " 'Kitchen_ZN_1_FLR_1 ZN Zone Air Temp Sensor',\n",
       " 'Kitchen_ZN_1_FLR_1 ZN Zone Air Humidity Sensor',\n",
       " 'Kitchen_ZN_1_FLR_1 ZN Zone Air Cooling sp',\n",
       " 'Kitchen_ZN_1_FLR_1 ZN Zone Air Heating sp',\n",
       " 'PVAV_OTHER Discharge Air Temp Sensor',\n",
       " 'PVAV_OTHER Discharge Air Pressure Sensor',\n",
       " 'PVAV_OTHER Discharge Air Humidity Sensor',\n",
       " 'PVAV_OTHER Discharge Air Flow Sensor',\n",
       " 'PVAV_OTHER_Outside_Air_Damper_Sensor_position',\n",
       " 'PVAV_OTHER Mixed Air Temp Sensor',\n",
       " 'PVAV_OTHER Mixed Air Pressure Sensor',\n",
       " 'PVAV_OTHER Mixed Air Humidity Sensor',\n",
       " 'PVAV_OTHER Mixed Air Flow Sensor',\n",
       " 'PVAV_OTHER Outside Air Temp Sensor',\n",
       " 'PVAV_OTHER Outside Air Pressure Sensor',\n",
       " 'PVAV_OTHER Outside Air Humidity Sensor',\n",
       " 'PVAV_OTHER Outside Air Flow Sensor',\n",
       " 'PVAV_OTHER Return Air Temp Sensor',\n",
       " 'PVAV_OTHER Return Air Pressure Sensor',\n",
       " 'PVAV_OTHER Return Air Humidity Sensor',\n",
       " 'PVAV_OTHER Return Air Flow Sensor',\n",
       " 'PVAV_OTHER Exhaust Air Temp Sensor',\n",
       " 'PVAV_OTHER Exhaust Air Pressure Sensor',\n",
       " 'PVAV_OTHER Exhaust Air Humidity Sensor',\n",
       " 'PVAV_OTHER Exhaust Air Flow Sensor',\n",
       " 'Computer_Class_ZN_1_FLR_1 ZN VAV Terminal Entering Air Temp Sensor',\n",
       " 'Computer_Class_ZN_1_FLR_1 ZN VAV Terminal Discharge Air Temp Sensor',\n",
       " 'Computer_Class_ZN_1_FLR_1 ZN Zone Air Temp Sensor',\n",
       " 'Computer_Class_ZN_1_FLR_1 ZN Zone Air Humidity Sensor',\n",
       " 'Computer_Class_ZN_1_FLR_1 ZN Zone Air Cooling sp',\n",
       " 'Computer_Class_ZN_1_FLR_1 ZN Zone Air Heating sp',\n",
       " 'Main_Corridor_ZN_1_FLR_1 ZN VAV Terminal Entering Air Temp Sensor',\n",
       " 'Main_Corridor_ZN_1_FLR_1 ZN VAV Terminal Discharge Air Temp Sensor',\n",
       " 'Main_Corridor_ZN_1_FLR_1 ZN Zone Air Temp Sensor',\n",
       " 'Main_Corridor_ZN_1_FLR_1 ZN Zone Air Humidity Sensor',\n",
       " 'Main_Corridor_ZN_1_FLR_1 ZN Zone Air Cooling sp',\n",
       " 'Main_Corridor_ZN_1_FLR_1 ZN Zone Air Heating sp',\n",
       " 'Lobby_ZN_1_FLR_1 ZN VAV Terminal Entering Air Temp Sensor',\n",
       " 'Lobby_ZN_1_FLR_1 ZN VAV Terminal Discharge Air Temp Sensor',\n",
       " 'Lobby_ZN_1_FLR_1 ZN Zone Air Temp Sensor',\n",
       " 'Lobby_ZN_1_FLR_1 ZN Zone Air Humidity Sensor',\n",
       " 'Lobby_ZN_1_FLR_1 ZN Zone Air Cooling sp',\n",
       " 'Lobby_ZN_1_FLR_1 ZN Zone Air Heating sp',\n",
       " 'Mech_ZN_1_FLR_1 ZN VAV Terminal Entering Air Temp Sensor',\n",
       " 'Mech_ZN_1_FLR_1 ZN VAV Terminal Discharge Air Temp Sensor',\n",
       " 'Mech_ZN_1_FLR_1 ZN Zone Air Temp Sensor',\n",
       " 'Mech_ZN_1_FLR_1 ZN Zone Air Humidity Sensor',\n",
       " 'Mech_ZN_1_FLR_1 ZN Zone Air Cooling sp',\n",
       " 'Mech_ZN_1_FLR_1 ZN Zone Air Heating sp',\n",
       " 'Bath_ZN_1_FLR_1 ZN VAV Terminal Entering Air Temp Sensor',\n",
       " 'Bath_ZN_1_FLR_1 ZN VAV Terminal Discharge Air Temp Sensor',\n",
       " 'Bath_ZN_1_FLR_1 ZN Zone Air Temp Sensor',\n",
       " 'Bath_ZN_1_FLR_1 ZN Zone Air Humidity Sensor',\n",
       " 'Bath_ZN_1_FLR_1 ZN Zone Air Cooling sp',\n",
       " 'Bath_ZN_1_FLR_1 ZN Zone Air Heating sp',\n",
       " 'Offices_ZN_1_FLR_1 ZN VAV Terminal Entering Air Temp Sensor',\n",
       " 'Offices_ZN_1_FLR_1 ZN VAV Terminal Discharge Air Temp Sensor',\n",
       " 'Offices_ZN_1_FLR_1 ZN Zone Air Temp Sensor',\n",
       " 'Offices_ZN_1_FLR_1 ZN Zone Air Humidity Sensor',\n",
       " 'Offices_ZN_1_FLR_1 ZN Zone Air Cooling sp',\n",
       " 'Offices_ZN_1_FLR_1 ZN Zone Air Heating sp',\n",
       " 'Library_Media_Center_ZN_1_FLR_1 ZN VAV Terminal Entering Air Temp Sensor',\n",
       " 'Library_Media_Center_ZN_1_FLR_1 ZN VAV Terminal Discharge Air Temp Sensor',\n",
       " 'Library_Media_Center_ZN_1_FLR_1 ZN Zone Air Temp Sensor',\n",
       " 'Library_Media_Center_ZN_1_FLR_1 ZN Zone Air Humidity Sensor',\n",
       " 'Library_Media_Center_ZN_1_FLR_1 ZN Zone Air Cooling sp',\n",
       " 'Library_Media_Center_ZN_1_FLR_1 ZN Zone Air Heating sp',\n",
       " 'PVAV_POD_3 Discharge Air Temp Sensor',\n",
       " 'PVAV_POD_3 Discharge Air Pressure Sensor',\n",
       " 'PVAV_POD_3 Discharge Air Humidity Sensor',\n",
       " 'PVAV_POD_3 Discharge Air Flow Sensor',\n",
       " 'PVAV_POD_3_Outside_Air_Damper_Sensor_position',\n",
       " 'PVAV_POD_3 Mixed Air Temp Sensor',\n",
       " 'PVAV_POD_3 Mixed Air Pressure Sensor',\n",
       " 'PVAV_POD_3 Mixed Air Humidity Sensor',\n",
       " 'PVAV_POD_3 Mixed Air Flow Sensor',\n",
       " 'PVAV_POD_3 Outside Air Temp Sensor',\n",
       " 'PVAV_POD_3 Outside Air Pressure Sensor',\n",
       " 'PVAV_POD_3 Outside Air Humidity Sensor',\n",
       " 'PVAV_POD_3 Outside Air Flow Sensor',\n",
       " 'PVAV_POD_3 Return Air Temp Sensor',\n",
       " 'PVAV_POD_3 Return Air Pressure Sensor',\n",
       " 'PVAV_POD_3 Return Air Humidity Sensor',\n",
       " 'PVAV_POD_3 Return Air Flow Sensor',\n",
       " 'PVAV_POD_3 Exhaust Air Temp Sensor',\n",
       " 'PVAV_POD_3 Exhaust Air Pressure Sensor',\n",
       " 'PVAV_POD_3 Exhaust Air Humidity Sensor',\n",
       " 'PVAV_POD_3 Exhaust Air Flow Sensor',\n",
       " 'Corner_Class_1_Pod_3_ZN_1_FLR_1 ZN VAV Terminal Entering Air Temp Sensor',\n",
       " 'Corner_Class_1_Pod_3_ZN_1_FLR_1 ZN VAV Terminal Discharge Air Temp Sensor',\n",
       " 'Corner_Class_1_Pod_3_ZN_1_FLR_1 ZN Zone Air Temp Sensor',\n",
       " 'Corner_Class_1_Pod_3_ZN_1_FLR_1 ZN Zone Air Humidity Sensor',\n",
       " 'Corner_Class_1_Pod_3_ZN_1_FLR_1 ZN Zone Air Cooling sp',\n",
       " 'Corner_Class_1_Pod_3_ZN_1_FLR_1 ZN Zone Air Heating sp',\n",
       " 'Mult_Class_1_Pod_3_ZN_1_FLR_1 ZN VAV Terminal Entering Air Temp Sensor',\n",
       " 'Mult_Class_1_Pod_3_ZN_1_FLR_1 ZN VAV Terminal Discharge Air Temp Sensor',\n",
       " 'Mult_Class_1_Pod_3_ZN_1_FLR_1 ZN Zone Air Temp Sensor',\n",
       " 'Mult_Class_1_Pod_3_ZN_1_FLR_1 ZN Zone Air Humidity Sensor',\n",
       " 'Mult_Class_1_Pod_3_ZN_1_FLR_1 ZN Zone Air Cooling sp',\n",
       " 'Mult_Class_1_Pod_3_ZN_1_FLR_1 ZN Zone Air Heating sp',\n",
       " 'Corridor_Pod_3_ZN_1_FLR_1 ZN VAV Terminal Entering Air Temp Sensor',\n",
       " 'Corridor_Pod_3_ZN_1_FLR_1 ZN VAV Terminal Discharge Air Temp Sensor',\n",
       " 'Corridor_Pod_3_ZN_1_FLR_1 ZN Zone Air Temp Sensor',\n",
       " 'Corridor_Pod_3_ZN_1_FLR_1 ZN Zone Air Humidity Sensor',\n",
       " 'Corridor_Pod_3_ZN_1_FLR_1 ZN Zone Air Cooling sp',\n",
       " 'Corridor_Pod_3_ZN_1_FLR_1 ZN Zone Air Heating sp',\n",
       " 'Corner_Class_2_Pod_3_ZN_1_FLR_1 ZN VAV Terminal Entering Air Temp Sensor',\n",
       " 'Corner_Class_2_Pod_3_ZN_1_FLR_1 ZN VAV Terminal Discharge Air Temp Sensor',\n",
       " 'Corner_Class_2_Pod_3_ZN_1_FLR_1 ZN Zone Air Temp Sensor',\n",
       " 'Corner_Class_2_Pod_3_ZN_1_FLR_1 ZN Zone Air Humidity Sensor',\n",
       " 'Corner_Class_2_Pod_3_ZN_1_FLR_1 ZN Zone Air Cooling sp',\n",
       " 'Corner_Class_2_Pod_3_ZN_1_FLR_1 ZN Zone Air Heating sp',\n",
       " 'Mult_Class_2_Pod_3_ZN_1_FLR_1 ZN VAV Terminal Entering Air Temp Sensor',\n",
       " 'Mult_Class_2_Pod_3_ZN_1_FLR_1 ZN VAV Terminal Discharge Air Temp Sensor',\n",
       " 'Mult_Class_2_Pod_3_ZN_1_FLR_1 ZN Zone Air Temp Sensor',\n",
       " 'Mult_Class_2_Pod_3_ZN_1_FLR_1 ZN Zone Air Humidity Sensor',\n",
       " 'Mult_Class_2_Pod_3_ZN_1_FLR_1 ZN Zone Air Cooling sp',\n",
       " 'Mult_Class_2_Pod_3_ZN_1_FLR_1 ZN Zone Air Heating sp',\n",
       " 'PVAV_POD_2 Discharge Air Temp Sensor',\n",
       " 'PVAV_POD_2 Discharge Air Pressure Sensor',\n",
       " 'PVAV_POD_2 Discharge Air Humidity Sensor',\n",
       " 'PVAV_POD_2 Discharge Air Flow Sensor',\n",
       " 'PVAV_POD_2_Outside_Air_Damper_Sensor_position',\n",
       " 'PVAV_POD_2 Mixed Air Temp Sensor',\n",
       " 'PVAV_POD_2 Mixed Air Pressure Sensor',\n",
       " 'PVAV_POD_2 Mixed Air Humidity Sensor',\n",
       " 'PVAV_POD_2 Mixed Air Flow Sensor',\n",
       " 'PVAV_POD_2 Outside Air Temp Sensor',\n",
       " 'PVAV_POD_2 Outside Air Pressure Sensor',\n",
       " 'PVAV_POD_2 Outside Air Humidity Sensor',\n",
       " 'PVAV_POD_2 Outside Air Flow Sensor',\n",
       " 'PVAV_POD_2 Return Air Temp Sensor',\n",
       " 'PVAV_POD_2 Return Air Pressure Sensor',\n",
       " 'PVAV_POD_2 Return Air Humidity Sensor',\n",
       " 'PVAV_POD_2 Return Air Flow Sensor',\n",
       " 'PVAV_POD_2 Exhaust Air Temp Sensor',\n",
       " 'PVAV_POD_2 Exhaust Air Pressure Sensor',\n",
       " 'PVAV_POD_2 Exhaust Air Humidity Sensor',\n",
       " 'PVAV_POD_2 Exhaust Air Flow Sensor',\n",
       " 'Mult_Class_1_Pod_2_ZN_1_FLR_1 ZN VAV Terminal Entering Air Temp Sensor',\n",
       " 'Mult_Class_1_Pod_2_ZN_1_FLR_1 ZN VAV Terminal Discharge Air Temp Sensor',\n",
       " 'Mult_Class_1_Pod_2_ZN_1_FLR_1 ZN Zone Air Temp Sensor',\n",
       " 'Mult_Class_1_Pod_2_ZN_1_FLR_1 ZN Zone Air Humidity Sensor',\n",
       " 'Mult_Class_1_Pod_2_ZN_1_FLR_1 ZN Zone Air Cooling sp',\n",
       " 'Mult_Class_1_Pod_2_ZN_1_FLR_1 ZN Zone Air Heating sp',\n",
       " 'Corridor_Pod_2_ZN_1_FLR_1 ZN VAV Terminal Entering Air Temp Sensor',\n",
       " 'Corridor_Pod_2_ZN_1_FLR_1 ZN VAV Terminal Discharge Air Temp Sensor',\n",
       " 'Corridor_Pod_2_ZN_1_FLR_1 ZN Zone Air Temp Sensor',\n",
       " 'Corridor_Pod_2_ZN_1_FLR_1 ZN Zone Air Humidity Sensor',\n",
       " 'Corridor_Pod_2_ZN_1_FLR_1 ZN Zone Air Cooling sp',\n",
       " 'Corridor_Pod_2_ZN_1_FLR_1 ZN Zone Air Heating sp',\n",
       " 'Corner_Class_2_Pod_2_ZN_1_FLR_1 ZN VAV Terminal Entering Air Temp Sensor',\n",
       " 'Corner_Class_2_Pod_2_ZN_1_FLR_1 ZN VAV Terminal Discharge Air Temp Sensor',\n",
       " 'Corner_Class_2_Pod_2_ZN_1_FLR_1 ZN Zone Air Temp Sensor',\n",
       " 'Corner_Class_2_Pod_2_ZN_1_FLR_1 ZN Zone Air Humidity Sensor',\n",
       " 'Corner_Class_2_Pod_2_ZN_1_FLR_1 ZN Zone Air Cooling sp',\n",
       " 'Corner_Class_2_Pod_2_ZN_1_FLR_1 ZN Zone Air Heating sp',\n",
       " 'Mult_Class_2_Pod_2_ZN_1_FLR_1 ZN VAV Terminal Entering Air Temp Sensor',\n",
       " 'Mult_Class_2_Pod_2_ZN_1_FLR_1 ZN VAV Terminal Discharge Air Temp Sensor',\n",
       " 'Mult_Class_2_Pod_2_ZN_1_FLR_1 ZN Zone Air Temp Sensor',\n",
       " 'Mult_Class_2_Pod_2_ZN_1_FLR_1 ZN Zone Air Humidity Sensor',\n",
       " 'Mult_Class_2_Pod_2_ZN_1_FLR_1 ZN Zone Air Cooling sp',\n",
       " 'Mult_Class_2_Pod_2_ZN_1_FLR_1 ZN Zone Air Heating sp',\n",
       " 'Corner_Class_1_Pod_2_ZN_1_FLR_1 ZN VAV Terminal Entering Air Temp Sensor',\n",
       " 'Corner_Class_1_Pod_2_ZN_1_FLR_1 ZN VAV Terminal Discharge Air Temp Sensor',\n",
       " 'Corner_Class_1_Pod_2_ZN_1_FLR_1 ZN Zone Air Temp Sensor',\n",
       " 'Corner_Class_1_Pod_2_ZN_1_FLR_1 ZN Zone Air Humidity Sensor',\n",
       " 'Corner_Class_1_Pod_2_ZN_1_FLR_1 ZN Zone Air Cooling sp',\n",
       " 'Corner_Class_1_Pod_2_ZN_1_FLR_1 ZN Zone Air Heating sp',\n",
       " 'PVAV_POD_1 Discharge Air Temp Sensor',\n",
       " 'PVAV_POD_1 Discharge Air Pressure Sensor',\n",
       " 'PVAV_POD_1 Discharge Air Humidity Sensor',\n",
       " 'PVAV_POD_1 Discharge Air Flow Sensor',\n",
       " 'PVAV_POD_1_Outside_Air_Damper_Sensor_position',\n",
       " 'PVAV_POD_1 Mixed Air Temp Sensor',\n",
       " 'PVAV_POD_1 Mixed Air Pressure Sensor',\n",
       " 'PVAV_POD_1 Mixed Air Humidity Sensor',\n",
       " 'PVAV_POD_1 Mixed Air Flow Sensor',\n",
       " 'PVAV_POD_1 Outside Air Temp Sensor',\n",
       " 'PVAV_POD_1 Outside Air Pressure Sensor',\n",
       " 'PVAV_POD_1 Outside Air Humidity Sensor',\n",
       " 'PVAV_POD_1 Outside Air Flow Sensor',\n",
       " 'PVAV_POD_1 Return Air Temp Sensor',\n",
       " 'PVAV_POD_1 Return Air Pressure Sensor',\n",
       " 'PVAV_POD_1 Return Air Humidity Sensor',\n",
       " 'PVAV_POD_1 Return Air Flow Sensor',\n",
       " 'PVAV_POD_1 Exhaust Air Temp Sensor',\n",
       " 'PVAV_POD_1 Exhaust Air Pressure Sensor',\n",
       " 'PVAV_POD_1 Exhaust Air Humidity Sensor',\n",
       " 'PVAV_POD_1 Exhaust Air Flow Sensor',\n",
       " 'Corner_Class_1_Pod_1_ZN_1_FLR_1 ZN VAV Terminal Entering Air Temp Sensor',\n",
       " 'Corner_Class_1_Pod_1_ZN_1_FLR_1 ZN VAV Terminal Discharge Air Temp Sensor',\n",
       " 'Corner_Class_1_Pod_1_ZN_1_FLR_1 ZN Zone Air Temp Sensor',\n",
       " 'Corner_Class_1_Pod_1_ZN_1_FLR_1 ZN Zone Air Humidity Sensor',\n",
       " 'Corner_Class_1_Pod_1_ZN_1_FLR_1 ZN Zone Air Cooling sp',\n",
       " 'Corner_Class_1_Pod_1_ZN_1_FLR_1 ZN Zone Air Heating sp',\n",
       " 'Mult_Class_1_Pod_1_ZN_1_FLR_1 ZN VAV Terminal Entering Air Temp Sensor',\n",
       " 'Mult_Class_1_Pod_1_ZN_1_FLR_1 ZN VAV Terminal Discharge Air Temp Sensor',\n",
       " 'Mult_Class_1_Pod_1_ZN_1_FLR_1 ZN Zone Air Temp Sensor',\n",
       " 'Mult_Class_1_Pod_1_ZN_1_FLR_1 ZN Zone Air Humidity Sensor',\n",
       " 'Mult_Class_1_Pod_1_ZN_1_FLR_1 ZN Zone Air Cooling sp',\n",
       " 'Mult_Class_1_Pod_1_ZN_1_FLR_1 ZN Zone Air Heating sp',\n",
       " 'Corridor_Pod_1_ZN_1_FLR_1 ZN VAV Terminal Entering Air Temp Sensor',\n",
       " 'Corridor_Pod_1_ZN_1_FLR_1 ZN VAV Terminal Discharge Air Temp Sensor',\n",
       " 'Corridor_Pod_1_ZN_1_FLR_1 ZN Zone Air Temp Sensor',\n",
       " 'Corridor_Pod_1_ZN_1_FLR_1 ZN Zone Air Humidity Sensor',\n",
       " 'Corridor_Pod_1_ZN_1_FLR_1 ZN Zone Air Cooling sp',\n",
       " 'Corridor_Pod_1_ZN_1_FLR_1 ZN Zone Air Heating sp',\n",
       " 'Corner_Class_2_Pod_1_ZN_1_FLR_1 ZN VAV Terminal Entering Air Temp Sensor',\n",
       " 'Corner_Class_2_Pod_1_ZN_1_FLR_1 ZN VAV Terminal Discharge Air Temp Sensor',\n",
       " 'Corner_Class_2_Pod_1_ZN_1_FLR_1 ZN Zone Air Temp Sensor',\n",
       " 'Corner_Class_2_Pod_1_ZN_1_FLR_1 ZN Zone Air Humidity Sensor',\n",
       " 'Corner_Class_2_Pod_1_ZN_1_FLR_1 ZN Zone Air Cooling sp',\n",
       " 'Corner_Class_2_Pod_1_ZN_1_FLR_1 ZN Zone Air Heating sp',\n",
       " 'Mult_Class_2_Pod_1_ZN_1_FLR_1 ZN VAV Terminal Entering Air Temp Sensor',\n",
       " 'Mult_Class_2_Pod_1_ZN_1_FLR_1 ZN VAV Terminal Discharge Air Temp Sensor',\n",
       " 'Mult_Class_2_Pod_1_ZN_1_FLR_1 ZN Zone Air Temp Sensor',\n",
       " 'Mult_Class_2_Pod_1_ZN_1_FLR_1 ZN Zone Air Humidity Sensor',\n",
       " 'Mult_Class_2_Pod_1_ZN_1_FLR_1 ZN Zone Air Cooling sp',\n",
       " 'Mult_Class_2_Pod_1_ZN_1_FLR_1 ZN Zone Air Heating sp']"
      ]
     },
     "execution_count": 12,
     "metadata": {},
     "output_type": "execute_result"
    }
   ],
   "source": [
    "client.all_cur_points(ref)"
   ]
  },
  {
   "cell_type": "code",
   "execution_count": 13,
   "metadata": {},
   "outputs": [
    {
     "data": {
      "text/plain": [
       "['Cafeteria_ZN_1_FLR_1_ZN_PSZ_AC_2_7_Outside_Air_Damper_CMD',\n",
       " 'Gym_ZN_1_FLR_1_ZN_PSZ_AC_2_5_Outside_Air_Damper_CMD',\n",
       " 'Kitchen_ZN_1_FLR_1_ZN_PSZ_AC_1_6_Outside_Air_Damper_CMD',\n",
       " 'PVAV_OTHER_Outside_Air_Damper_CMD',\n",
       " 'PVAV_POD_3_Outside_Air_Damper_CMD',\n",
       " 'PVAV_POD_2_Outside_Air_Damper_CMD',\n",
       " 'PVAV_POD_1_Outside_Air_Damper_CMD']"
      ]
     },
     "execution_count": 13,
     "metadata": {},
     "output_type": "execute_result"
    }
   ],
   "source": [
    "client.all_writable_points(ref)"
   ]
  },
  {
   "cell_type": "code",
   "execution_count": 76,
   "metadata": {},
   "outputs": [],
   "source": [
    "u = {\n",
    "    '_kitchen_zn_1_flr_1_zn_psz_ac_1_6_supply_outlet_node_Setpoint' : 30.0,\n",
    "    '_kitchen_zn_1_flr_1_zn_psz_ac_1_6_supply_outlet_node_Setpoint_Enable' : 1.\n",
    "    \n",
    "}\n",
    "client.setInputs(ref, u)"
   ]
  },
  {
   "cell_type": "code",
   "execution_count": 14,
   "metadata": {},
   "outputs": [],
   "source": [
    "client.advance(ref)"
   ]
  },
  {
   "cell_type": "code",
   "execution_count": 73,
   "metadata": {},
   "outputs": [
    {
     "data": {
      "text/plain": [
       "'ERROR'"
      ]
     },
     "execution_count": 73,
     "metadata": {},
     "output_type": "execute_result"
    }
   ],
   "source": [
    "client.status(ref)"
   ]
  },
  {
   "cell_type": "code",
   "execution_count": 12,
   "metadata": {},
   "outputs": [
    {
     "data": {
      "text/plain": [
       "{}"
      ]
     },
     "execution_count": 12,
     "metadata": {},
     "output_type": "execute_result"
    }
   ],
   "source": [
    "res = client.outputs(ref)\n",
    "res"
   ]
  },
  {
   "cell_type": "code",
   "execution_count": 13,
   "metadata": {},
   "outputs": [
    {
     "data": {
      "text/plain": [
       "{'_kitchen_zn_1_flr_1_zn_psz_ac_1_6_supply_outlet_node_Setpoint\\n': 'ok',\n",
       " '_gym_zn_1_flr_1_zn_psz_ac_2_5_supply_outlet_node_Setpoint': 'ok',\n",
       " '_cafeteria_zn_1_flr_1_zn_psz_ac_2_7_supply_outlet_node_Setpoint': 'ok',\n",
       " 'Cafeteria_ZN_1_FLR_1_ZN_PSZ_AC_2_7_Outside_Air_Damper_CMD': 'ok',\n",
       " 'Gym_ZN_1_FLR_1_ZN_PSZ_AC_2_5_Outside_Air_Damper_CMD': 'ok',\n",
       " 'Kitchen_ZN_1_FLR_1_ZN_PSZ_AC_1_6_Outside_Air_Damper_CMD': 'ok',\n",
       " 'PVAV_OTHER_Outside_Air_Damper_CMD': 'ok',\n",
       " 'PVAV_POD_3_Outside_Air_Damper_CMD': 'ok',\n",
       " 'PVAV_POD_2_Outside_Air_Damper_CMD': 'ok',\n",
       " 'PVAV_POD_1_Outside_Air_Damper_CMD': 'ok'}"
      ]
     },
     "execution_count": 13,
     "metadata": {},
     "output_type": "execute_result"
    }
   ],
   "source": [
    "inp = client.inputs(ref)\n",
    "inp"
   ]
  },
  {
   "cell_type": "code",
   "execution_count": 17,
   "metadata": {},
   "outputs": [
    {
     "data": {
      "text/plain": [
       "{'id': '882a1250-9052-11ed-8805-0539251ab97e',\n",
       " 'name': '-PrimarySchool-ASHRAE 169-2013-3A created: 2022-11-29 09:58:47 -0700',\n",
       " 'status': 'error',\n",
       " 'uploadTimestamp': '2023-01-09T19:19:26.659Z',\n",
       " 'uploadPath': 'uploads/88137202-9052-11ed-8441-acde48001122/primaryschool_modelmeasure.zip'}"
      ]
     },
     "execution_count": 17,
     "metadata": {},
     "output_type": "execute_result"
    }
   ],
   "source": [
    "response = requests.request(method=\"GET\", url=f\"http://localhost/api/v2/sites/{ref}\").json()\n",
    "#response = client._request(f\"sites/{ref}\", method=\"GET\").json()\n",
    "response[\"data\"]"
   ]
  },
  {
   "cell_type": "code",
   "execution_count": 10,
   "metadata": {},
   "outputs": [
    {
     "data": {
      "text/plain": [
       "'http://localhost'"
      ]
     },
     "execution_count": 10,
     "metadata": {},
     "output_type": "execute_result"
    }
   ],
   "source": [
    "client.url"
   ]
  },
  {
   "cell_type": "code",
   "execution_count": 9,
   "metadata": {},
   "outputs": [
    {
     "name": "stdout",
     "output_type": "stream",
     "text": [
      "Collecting poetry\n",
      "  Downloading poetry-1.3.1-py3-none-any.whl (218 kB)\n",
      "\u001b[2K     \u001b[90m━━━━━━━━━━━━━━━━━━━━━━━━━━━━━━━━━━━━━━━\u001b[0m \u001b[32m218.9/218.9 kB\u001b[0m \u001b[31m1.6 MB/s\u001b[0m eta \u001b[36m0:00:00\u001b[0ma \u001b[36m0:00:01\u001b[0m\n",
      "\u001b[?25hCollecting cleo<3.0.0,>=2.0.0\n",
      "  Downloading cleo-2.0.1-py3-none-any.whl (77 kB)\n",
      "\u001b[2K     \u001b[90m━━━━━━━━━━━━━━━━━━━━━━━━━━━━━━━━━━━━━━━━\u001b[0m \u001b[32m77.3/77.3 kB\u001b[0m \u001b[31m1.8 MB/s\u001b[0m eta \u001b[36m0:00:00\u001b[0ma \u001b[36m0:00:01\u001b[0m\n",
      "\u001b[?25hRequirement already satisfied: requests-toolbelt<0.11.0,>=0.9.1 in /usr/local/lib/python3.10/site-packages (from poetry) (0.9.1)\n",
      "Collecting html5lib<2.0,>=1.0\n",
      "  Using cached html5lib-1.1-py2.py3-none-any.whl (112 kB)\n",
      "Collecting lockfile<0.13.0,>=0.12.2\n",
      "  Using cached lockfile-0.12.2-py2.py3-none-any.whl (13 kB)\n",
      "Collecting platformdirs<3.0.0,>=2.5.2\n",
      "  Downloading platformdirs-2.6.2-py3-none-any.whl (14 kB)\n",
      "Collecting virtualenv!=20.4.5,!=20.4.6,<21.0.0,>=20.4.3\n",
      "  Downloading virtualenv-20.17.1-py3-none-any.whl (8.8 MB)\n",
      "\u001b[2K     \u001b[90m━━━━━━━━━━━━━━━━━━━━━━━━━━━━━━━━━━━━━━━━\u001b[0m \u001b[32m8.8/8.8 MB\u001b[0m \u001b[31m4.7 MB/s\u001b[0m eta \u001b[36m0:00:00\u001b[0m00:01\u001b[0m00:01\u001b[0m\n",
      "\u001b[?25hCollecting xattr<0.11.0,>=0.10.0\n",
      "  Downloading xattr-0.10.1-cp310-cp310-macosx_10_9_x86_64.whl (15 kB)\n",
      "Requirement already satisfied: packaging>=20.4 in /usr/local/lib/python3.10/site-packages (from poetry) (21.3)\n",
      "Requirement already satisfied: pexpect<5.0.0,>=4.7.0 in /Users/tmarzull/Library/Python/3.10/lib/python/site-packages (from poetry) (4.8.0)\n",
      "Collecting tomlkit!=0.11.2,!=0.11.3,<1.0.0,>=0.11.1\n",
      "  Downloading tomlkit-0.11.6-py3-none-any.whl (35 kB)\n",
      "Collecting filelock<4.0.0,>=3.8.0\n",
      "  Downloading filelock-3.9.0-py3-none-any.whl (9.7 kB)\n",
      "Requirement already satisfied: requests<3.0,>=2.18 in /usr/local/lib/python3.10/site-packages (from poetry) (2.28.1)\n",
      "Collecting keyring<24.0.0,>=23.9.0\n",
      "  Downloading keyring-23.13.1-py3-none-any.whl (37 kB)\n",
      "Collecting tomli<3.0.0,>=2.0.1\n",
      "  Using cached tomli-2.0.1-py3-none-any.whl (12 kB)\n",
      "Collecting pkginfo<2.0,>=1.5\n",
      "  Downloading pkginfo-1.9.6-py3-none-any.whl (30 kB)\n",
      "Collecting shellingham<2.0,>=1.5\n",
      "  Downloading shellingham-1.5.0.post1-py2.py3-none-any.whl (9.4 kB)\n",
      "Requirement already satisfied: urllib3<2.0.0,>=1.26.0 in /usr/local/lib/python3.10/site-packages (from poetry) (1.26.12)\n",
      "Collecting crashtest<0.5.0,>=0.4.1\n",
      "  Downloading crashtest-0.4.1-py3-none-any.whl (7.6 kB)\n",
      "Collecting jsonschema<5.0.0,>=4.10.0\n",
      "  Downloading jsonschema-4.17.3-py3-none-any.whl (90 kB)\n",
      "\u001b[2K     \u001b[90m━━━━━━━━━━━━━━━━━━━━━━━━━━━━━━━━━━━━━━━━\u001b[0m \u001b[32m90.4/90.4 kB\u001b[0m \u001b[31m2.0 MB/s\u001b[0m eta \u001b[36m0:00:00\u001b[0ma \u001b[36m0:00:01\u001b[0m\n",
      "\u001b[?25hCollecting poetry-plugin-export<2.0.0,>=1.2.0\n",
      "  Downloading poetry_plugin_export-1.2.0-py3-none-any.whl (10 kB)\n",
      "Collecting poetry-core==1.4.0\n",
      "  Using cached poetry_core-1.4.0-py3-none-any.whl (546 kB)\n",
      "Collecting cachecontrol[filecache]<0.13.0,>=0.12.9\n",
      "  Downloading CacheControl-0.12.11-py2.py3-none-any.whl (21 kB)\n",
      "Collecting dulwich<0.21.0,>=0.20.46\n",
      "  Downloading dulwich-0.20.50-cp310-cp310-macosx_10_9_x86_64.whl (460 kB)\n",
      "\u001b[2K     \u001b[90m━━━━━━━━━━━━━━━━━━━━━━━━━━━━━━━━━━━━━━━\u001b[0m \u001b[32m460.6/460.6 kB\u001b[0m \u001b[31m2.9 MB/s\u001b[0m eta \u001b[36m0:00:00\u001b[0m00:01\u001b[0m00:01\u001b[0m\n",
      "\u001b[?25hCollecting trove-classifiers>=2022.5.19\n",
      "  Downloading trove_classifiers-2022.12.22-py3-none-any.whl (13 kB)\n",
      "Collecting msgpack>=0.5.2\n",
      "  Downloading msgpack-1.0.4-cp310-cp310-macosx_10_9_x86_64.whl (74 kB)\n",
      "\u001b[2K     \u001b[90m━━━━━━━━━━━━━━━━━━━━━━━━━━━━━━━━━━━━━━━━\u001b[0m \u001b[32m74.9/74.9 kB\u001b[0m \u001b[31m1.6 MB/s\u001b[0m eta \u001b[36m0:00:00\u001b[0ma \u001b[36m0:00:01\u001b[0m\n",
      "\u001b[?25hCollecting rapidfuzz<3.0.0,>=2.2.0\n",
      "  Downloading rapidfuzz-2.13.7-cp310-cp310-macosx_10_9_x86_64.whl (1.8 MB)\n",
      "\u001b[2K     \u001b[90m━━━━━━━━━━━━━━━━━━━━━━━━━━━━━━━━━━━━━━━━\u001b[0m \u001b[32m1.8/1.8 MB\u001b[0m \u001b[31m6.4 MB/s\u001b[0m eta \u001b[36m0:00:00\u001b[0m00:01\u001b[0m00:01\u001b[0m\n",
      "\u001b[?25hRequirement already satisfied: six>=1.9 in /usr/local/lib/python3.10/site-packages (from html5lib<2.0,>=1.0->poetry) (1.16.0)\n",
      "Collecting webencodings\n",
      "  Using cached webencodings-0.5.1-py2.py3-none-any.whl (11 kB)\n",
      "Requirement already satisfied: attrs>=17.4.0 in /usr/local/lib/python3.10/site-packages (from jsonschema<5.0.0,>=4.10.0->poetry) (22.1.0)\n",
      "Requirement already satisfied: pyrsistent!=0.17.0,!=0.17.1,!=0.17.2,>=0.14.0 in /usr/local/lib/python3.10/site-packages (from jsonschema<5.0.0,>=4.10.0->poetry) (0.18.1)\n",
      "Collecting jaraco.classes\n",
      "  Downloading jaraco.classes-3.2.3-py3-none-any.whl (6.0 kB)\n",
      "Requirement already satisfied: importlib-metadata>=4.11.4 in /usr/local/lib/python3.10/site-packages (from keyring<24.0.0,>=23.9.0->poetry) (4.13.0)\n",
      "Requirement already satisfied: pyparsing!=3.0.5,>=2.0.2 in /usr/local/lib/python3.10/site-packages (from packaging>=20.4->poetry) (3.0.9)\n",
      "Requirement already satisfied: ptyprocess>=0.5 in /Users/tmarzull/Library/Python/3.10/lib/python/site-packages (from pexpect<5.0.0,>=4.7.0->poetry) (0.7.0)\n",
      "Requirement already satisfied: charset-normalizer<3,>=2 in /usr/local/lib/python3.10/site-packages (from requests<3.0,>=2.18->poetry) (2.1.1)\n",
      "Requirement already satisfied: certifi>=2017.4.17 in /usr/local/lib/python3.10/site-packages (from requests<3.0,>=2.18->poetry) (2022.9.24)\n",
      "Requirement already satisfied: idna<4,>=2.5 in /usr/local/lib/python3.10/site-packages (from requests<3.0,>=2.18->poetry) (3.4)\n",
      "Collecting distlib<1,>=0.3.6\n",
      "  Downloading distlib-0.3.6-py2.py3-none-any.whl (468 kB)\n",
      "\u001b[2K     \u001b[90m━━━━━━━━━━━━━━━━━━━━━━━━━━━━━━━━━━━━━━━\u001b[0m \u001b[32m468.5/468.5 kB\u001b[0m \u001b[31m7.6 MB/s\u001b[0m eta \u001b[36m0:00:00\u001b[0ma \u001b[36m0:00:01\u001b[0m\n",
      "\u001b[?25hRequirement already satisfied: cffi>=1.0 in /usr/local/lib/python3.10/site-packages (from xattr<0.11.0,>=0.10.0->poetry) (1.15.1)\n",
      "Requirement already satisfied: pycparser in /usr/local/lib/python3.10/site-packages (from cffi>=1.0->xattr<0.11.0,>=0.10.0->poetry) (2.21)\n",
      "Requirement already satisfied: zipp>=0.5 in /usr/local/lib/python3.10/site-packages (from importlib-metadata>=4.11.4->keyring<24.0.0,>=23.9.0->poetry) (3.11.0)\n",
      "Collecting more-itertools\n",
      "  Downloading more_itertools-9.0.0-py3-none-any.whl (52 kB)\n",
      "\u001b[2K     \u001b[90m━━━━━━━━━━━━━━━━━━━━━━━━━━━━━━━━━━━━━━━━\u001b[0m \u001b[32m52.8/52.8 kB\u001b[0m \u001b[31m1.8 MB/s\u001b[0m eta \u001b[36m0:00:00\u001b[0m\n",
      "\u001b[?25hInstalling collected packages: webencodings, trove-classifiers, msgpack, lockfile, distlib, tomlkit, tomli, shellingham, rapidfuzz, poetry-core, platformdirs, pkginfo, more-itertools, jsonschema, html5lib, filelock, dulwich, crashtest, xattr, virtualenv, jaraco.classes, cleo, cachecontrol, keyring, poetry-plugin-export, poetry\n",
      "  Attempting uninstall: jsonschema\n",
      "    Found existing installation: jsonschema 3.2.0\n",
      "    Uninstalling jsonschema-3.2.0:\n",
      "      Successfully uninstalled jsonschema-3.2.0\n",
      "\u001b[31mERROR: pip's dependency resolver does not currently take into account all the packages that are installed. This behaviour is the source of the following dependency conflicts.\n",
      "docker-compose 1.29.2 requires jsonschema<4,>=2.5.1, but you have jsonschema 4.17.3 which is incompatible.\u001b[0m\u001b[31m\n",
      "\u001b[0mSuccessfully installed cachecontrol-0.12.11 cleo-2.0.1 crashtest-0.4.1 distlib-0.3.6 dulwich-0.20.50 filelock-3.9.0 html5lib-1.1 jaraco.classes-3.2.3 jsonschema-4.17.3 keyring-23.13.1 lockfile-0.12.2 more-itertools-9.0.0 msgpack-1.0.4 pkginfo-1.9.6 platformdirs-2.6.2 poetry-1.3.1 poetry-core-1.4.0 poetry-plugin-export-1.2.0 rapidfuzz-2.13.7 shellingham-1.5.0.post1 tomli-2.0.1 tomlkit-0.11.6 trove-classifiers-2022.12.22 virtualenv-20.17.1 webencodings-0.5.1 xattr-0.10.1\n",
      "Collecting alfalfa-client@ git+https://github.com/NREL/alfalfa-client@c1bf100ee44f556390c720dbb789f1f7ec67ad4c\n",
      "  Cloning https://github.com/NREL/alfalfa-client (to revision c1bf100ee44f556390c720dbb789f1f7ec67ad4c) to /private/var/folders/_h/4373pvk125z9gq8hm6nw0tmd_0hcwf/T/pip-install-ngf_s_jx/alfalfa-client_d2bab11af6cd49afb6fd2d03391bb7e6\n",
      "  Running command git clone --filter=blob:none --quiet https://github.com/NREL/alfalfa-client /private/var/folders/_h/4373pvk125z9gq8hm6nw0tmd_0hcwf/T/pip-install-ngf_s_jx/alfalfa-client_d2bab11af6cd49afb6fd2d03391bb7e6\n",
      "  Running command git rev-parse -q --verify 'sha^c1bf100ee44f556390c720dbb789f1f7ec67ad4c'\n",
      "  Running command git fetch -q https://github.com/NREL/alfalfa-client c1bf100ee44f556390c720dbb789f1f7ec67ad4c\n",
      "  Resolved https://github.com/NREL/alfalfa-client to commit c1bf100ee44f556390c720dbb789f1f7ec67ad4c\n",
      "  Installing build dependencies ... \u001b[?25ldone\n",
      "\u001b[?25h  Getting requirements to build wheel ... \u001b[?25ldone\n",
      "\u001b[?25h  Preparing metadata (pyproject.toml) ... \u001b[?25ldone\n",
      "\u001b[?25hCollecting requests-toolbelt<0.11,>=0.10\n",
      "  Downloading requests_toolbelt-0.10.1-py2.py3-none-any.whl (54 kB)\n",
      "\u001b[2K     \u001b[90m━━━━━━━━━━━━━━━━━━━━━━━━━━━━━━━━━━━━━━━━\u001b[0m \u001b[32m54.5/54.5 kB\u001b[0m \u001b[31m1.0 MB/s\u001b[0m eta \u001b[36m0:00:00\u001b[0ma \u001b[36m0:00:01\u001b[0m\n",
      "\u001b[?25hCollecting pandas<1.6,>=1.5\n",
      "  Downloading pandas-1.5.2-cp310-cp310-macosx_10_9_x86_64.whl (12.0 MB)\n",
      "\u001b[2K     \u001b[90m━━━━━━━━━━━━━━━━━━━━━━━━━━━━━━━━━━━━━━━━\u001b[0m \u001b[32m12.0/12.0 MB\u001b[0m \u001b[31m12.2 MB/s\u001b[0m eta \u001b[36m0:00:00\u001b[0m00:01\u001b[0m00:01\u001b[0m\n",
      "\u001b[?25hRequirement already satisfied: hszinc<1.4,>=1.3 in /usr/local/lib/python3.10/site-packages (from alfalfa-client@ git+https://github.com/NREL/alfalfa-client@c1bf100ee44f556390c720dbb789f1f7ec67ad4c) (1.3.1)\n",
      "Collecting importlib-metadata<6.1,>=6.0\n",
      "  Downloading importlib_metadata-6.0.0-py3-none-any.whl (21 kB)\n",
      "Requirement already satisfied: iso8601 in /usr/local/lib/python3.10/site-packages (from hszinc<1.4,>=1.3->alfalfa-client@ git+https://github.com/NREL/alfalfa-client@c1bf100ee44f556390c720dbb789f1f7ec67ad4c) (1.1.0)\n",
      "Requirement already satisfied: pytz in /usr/local/lib/python3.10/site-packages (from hszinc<1.4,>=1.3->alfalfa-client@ git+https://github.com/NREL/alfalfa-client@c1bf100ee44f556390c720dbb789f1f7ec67ad4c) (2022.4)\n",
      "Requirement already satisfied: six in /usr/local/lib/python3.10/site-packages (from hszinc<1.4,>=1.3->alfalfa-client@ git+https://github.com/NREL/alfalfa-client@c1bf100ee44f556390c720dbb789f1f7ec67ad4c) (1.16.0)\n",
      "Requirement already satisfied: pyparsing in /usr/local/lib/python3.10/site-packages (from hszinc<1.4,>=1.3->alfalfa-client@ git+https://github.com/NREL/alfalfa-client@c1bf100ee44f556390c720dbb789f1f7ec67ad4c) (3.0.9)\n",
      "Requirement already satisfied: zipp>=0.5 in /usr/local/lib/python3.10/site-packages (from importlib-metadata<6.1,>=6.0->alfalfa-client@ git+https://github.com/NREL/alfalfa-client@c1bf100ee44f556390c720dbb789f1f7ec67ad4c) (3.11.0)\n",
      "Requirement already satisfied: python-dateutil>=2.8.1 in /usr/local/lib/python3.10/site-packages (from pandas<1.6,>=1.5->alfalfa-client@ git+https://github.com/NREL/alfalfa-client@c1bf100ee44f556390c720dbb789f1f7ec67ad4c) (2.8.2)\n",
      "Requirement already satisfied: numpy>=1.21.0 in /usr/local/lib/python3.10/site-packages (from pandas<1.6,>=1.5->alfalfa-client@ git+https://github.com/NREL/alfalfa-client@c1bf100ee44f556390c720dbb789f1f7ec67ad4c) (1.23.3)\n",
      "Requirement already satisfied: requests<3.0.0,>=2.0.1 in /usr/local/lib/python3.10/site-packages (from requests-toolbelt<0.11,>=0.10->alfalfa-client@ git+https://github.com/NREL/alfalfa-client@c1bf100ee44f556390c720dbb789f1f7ec67ad4c) (2.28.1)\n",
      "Requirement already satisfied: urllib3<1.27,>=1.21.1 in /usr/local/lib/python3.10/site-packages (from requests<3.0.0,>=2.0.1->requests-toolbelt<0.11,>=0.10->alfalfa-client@ git+https://github.com/NREL/alfalfa-client@c1bf100ee44f556390c720dbb789f1f7ec67ad4c) (1.26.12)\n",
      "Requirement already satisfied: idna<4,>=2.5 in /usr/local/lib/python3.10/site-packages (from requests<3.0.0,>=2.0.1->requests-toolbelt<0.11,>=0.10->alfalfa-client@ git+https://github.com/NREL/alfalfa-client@c1bf100ee44f556390c720dbb789f1f7ec67ad4c) (3.4)\n",
      "Requirement already satisfied: certifi>=2017.4.17 in /usr/local/lib/python3.10/site-packages (from requests<3.0.0,>=2.0.1->requests-toolbelt<0.11,>=0.10->alfalfa-client@ git+https://github.com/NREL/alfalfa-client@c1bf100ee44f556390c720dbb789f1f7ec67ad4c) (2022.9.24)\n",
      "Requirement already satisfied: charset-normalizer<3,>=2 in /usr/local/lib/python3.10/site-packages (from requests<3.0.0,>=2.0.1->requests-toolbelt<0.11,>=0.10->alfalfa-client@ git+https://github.com/NREL/alfalfa-client@c1bf100ee44f556390c720dbb789f1f7ec67ad4c) (2.1.1)\n",
      "Installing collected packages: importlib-metadata, requests-toolbelt, pandas\n",
      "  Attempting uninstall: importlib-metadata\n",
      "    Found existing installation: importlib-metadata 4.13.0\n",
      "    Uninstalling importlib-metadata-4.13.0:\n",
      "      Successfully uninstalled importlib-metadata-4.13.0\n",
      "  Attempting uninstall: requests-toolbelt\n",
      "    Found existing installation: requests-toolbelt 0.9.1\n",
      "    Uninstalling requests-toolbelt-0.9.1:\n",
      "      Successfully uninstalled requests-toolbelt-0.9.1\n",
      "  Attempting uninstall: pandas\n",
      "    Found existing installation: pandas 1.3.5\n",
      "    Uninstalling pandas-1.3.5:\n",
      "      Successfully uninstalled pandas-1.3.5\n",
      "\u001b[31mERROR: pip's dependency resolver does not currently take into account all the packages that are installed. This behaviour is the source of the following dependency conflicts.\n",
      "alfalfa-client 0.4.0 requires importlib-metadata<5.0.0,>=4.11.4, but you have importlib-metadata 6.0.0 which is incompatible.\n",
      "alfalfa-client 0.4.0 requires pandas<1.4.0,>=1.3.5, but you have pandas 1.5.2 which is incompatible.\n",
      "alfalfa-client 0.4.0 requires requests-toolbelt==0.9.1, but you have requests-toolbelt 0.10.1 which is incompatible.\u001b[0m\u001b[31m\n",
      "\u001b[0mSuccessfully installed importlib-metadata-6.0.0 pandas-1.5.2 requests-toolbelt-0.10.1\n"
     ]
    }
   ],
   "source": [
    "!python3 -m pip install poetry\n",
    "!python3 -m pip install \"alfalfa-client @ git+https://github.com/NREL/alfalfa-client@c1bf100ee44f556390c720dbb789f1f7ec67ad4c\""
   ]
  }
 ],
 "metadata": {
  "kernelspec": {
   "display_name": "Python 3",
   "language": "python",
   "name": "python3"
  },
  "language_info": {
   "codemirror_mode": {
    "name": "ipython",
    "version": 3
   },
   "file_extension": ".py",
   "mimetype": "text/x-python",
   "name": "python",
   "nbconvert_exporter": "python",
   "pygments_lexer": "ipython3",
   "version": "3.10.8"
  },
  "orig_nbformat": 4,
  "vscode": {
   "interpreter": {
    "hash": "aee8b7b246df8f9039afb4144a1f6fd8d2ca17a180786b69acc140d282b71a49"
   }
  }
 },
 "nbformat": 4,
 "nbformat_minor": 2
}
