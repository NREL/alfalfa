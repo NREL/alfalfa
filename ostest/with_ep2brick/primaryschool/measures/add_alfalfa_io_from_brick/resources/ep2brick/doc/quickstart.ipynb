{
 "cells": [
  {
   "attachments": {},
   "cell_type": "markdown",
   "id": "0c28ab0e",
   "metadata": {},
   "source": [
    "# Using EP2BRICK\n",
    "\n",
    "Quick introduction to using EP2BRICK, to extract a BRICK model from an EnergyPlus IDF."
   ]
  },
  {
   "cell_type": "code",
   "execution_count": null,
   "id": "4a0f6662",
   "metadata": {},
   "outputs": [],
   "source": [
    "import sys\n",
    "sys.path.append('..')\n",
    "import ep2brick"
   ]
  },
  {
   "attachments": {},
   "cell_type": "markdown",
   "id": "d8580699",
   "metadata": {},
   "source": [
    "Instantiate an Extractor object. This is the main class for the ep2brick tool.\n",
    "\n",
    "The `load` method uses Opyplus to parse an IDF and find relationships between components (e.g., which components are part of a given Unitary HVAC System component).\n",
    "\n",
    "The `walkElements` method will parse all the elements of the IDF you have just loaded, and it will convert them to `Component` objects. These objects contain raw data on all the objects extracted from the IDF.\n",
    "\n",
    "The `connectComponents` method will search for fluid loops and connect them using the BRICK predicate \"feeds\" (and its inverse \"isFedBy\")"
   ]
  },
  {
   "cell_type": "code",
   "execution_count": null,
   "id": "e110c997",
   "metadata": {},
   "outputs": [],
   "source": [
    "ext = ep2brick.Extractor()\n",
    "opm = ext.load('../tests/resources/school.idf')\n",
    "test = ext.walkElements(opm)\n",
    "ext.connectComponents()"
   ]
  },
  {
   "attachments": {},
   "cell_type": "markdown",
   "id": "fc3a38fd",
   "metadata": {},
   "source": [
    "Some EnergyPlus components cannot be directly translated to BRICK components. Examples include NodeLists, Splitters, Mixers, etc.\n",
    "\n",
    "The `cleanupPredicates` will find any component that cannot be matched to a BRICK component and delete it, while at the same time fixing the predicates for all related objects. Without this step, some predicates might point to non-existent objects or objects with no BRICK type."
   ]
  },
  {
   "cell_type": "code",
   "execution_count": null,
   "id": "0e8e7a61",
   "metadata": {},
   "outputs": [],
   "source": [
    "ext.cleanupPredicates()\n",
    "#LOOP DUE TO WATER:CONNECTIONS AND WATER:EQUIPMENT"
   ]
  },
  {
   "cell_type": "code",
   "execution_count": null,
   "id": "542e53c4",
   "metadata": {},
   "outputs": [],
   "source": [
    "for subj in ext.components.values():\n",
    "    if subj.btype != \"\":\n",
    "        print(f\"{subj.name}, a {subj.btype}\")\n",
    "        for predicate in subj.bpredicates.keys():\n",
    "            for obj in subj.bpredicates[predicate]:\n",
    "                try:\n",
    "                    print(f\"\\t {predicate} {obj.name}, a {obj.btype}\")\n",
    "                except:\n",
    "                    print(f\"\\t {predicate} {obj} !!STRING!!\")"
   ]
  },
  {
   "attachments": {},
   "cell_type": "markdown",
   "id": "e8f5c775",
   "metadata": {},
   "source": [
    "Finally, the `createGraph` method will generate an empty graph and populate it with the information we just extracted from an IDF.\n",
    "\n",
    "The `saveGraph` method serializes the graph and outputs a Turtle (.ttl) file, which by default has the same name as the original IDF - except for the file extension."
   ]
  },
  {
   "cell_type": "code",
   "execution_count": null,
   "id": "b2f23f34",
   "metadata": {},
   "outputs": [],
   "source": [
    "ext.createGraph()\n",
    "ext.saveGraph()"
   ]
  }
 ],
 "metadata": {
  "kernelspec": {
   "display_name": "Python 3.10.8 64-bit",
   "language": "python",
   "name": "python3"
  },
  "language_info": {
   "codemirror_mode": {
    "name": "ipython",
    "version": 3
   },
   "file_extension": ".py",
   "mimetype": "text/x-python",
   "name": "python",
   "nbconvert_exporter": "python",
   "pygments_lexer": "ipython3",
   "version": "3.10.8 (main, Oct 13 2022, 10:17:43) [Clang 14.0.0 (clang-1400.0.29.102)]"
  },
  "vscode": {
   "interpreter": {
    "hash": "aee8b7b246df8f9039afb4144a1f6fd8d2ca17a180786b69acc140d282b71a49"
   }
  }
 },
 "nbformat": 4,
 "nbformat_minor": 5
}
